{
 "cells": [
  {
   "cell_type": "markdown",
   "id": "26e78b37",
   "metadata": {},
   "source": [
    "# <font color='blue'>Data Science Academy</font>\n",
    "# <font color='blue'>Big Data Real-Time Analytics com Python e Spark</font>"
   ]
  },
  {
   "cell_type": "markdown",
   "id": "aba16d55",
   "metadata": {},
   "source": [
    "# <br><br><font color='darkgreen'><center>Testes de Hipótese em Linguagem Python Para Problemas de Negócio em Telecom</center></font>"
   ]
  },
  {
   "cell_type": "markdown",
   "id": "2233afb2",
   "metadata": {},
   "source": [
    "## <br><br>Contexto"
   ]
  },
  {
   "cell_type": "markdown",
   "id": "a91d5fcc",
   "metadata": {},
   "source": [
    "- Um provedor de internet oferece diversos tipos de planos de acesso com diferentes larguras de banda. A empresa então fez um upgrade da sua infraestrutura e gostaria de validar algumas hipóteses sobre o consumo de largura de banda dos clientes.\n",
    "- A empresa possuía dados do consumo médio de largura de banda antes do upgrade e registrou o consumo no primeiro mês após o upgrade, no segundo mês e no mês anterior ao upgrade. Os dados foram registrados junto com algumas características dos clientes.\n",
    "- Algumas perguntas de negócio foram formuladas e agora iremos respondê-las através de **4 testes de hipótese**.\n",
    "- Os dados usados são fictícios."
   ]
  },
  {
   "cell_type": "markdown",
   "id": "badceb42",
   "metadata": {},
   "source": [
    "## <br>Objetivo"
   ]
  },
  {
   "cell_type": "markdown",
   "id": "d62a2721",
   "metadata": {},
   "source": [
    "#### O objetivo deste projeto é demonstrar na pŕatica como utilizamos um Teste de Hipóteste do início ao fim.\n",
    "\n",
    "- Iniciando com a formulação do problema.\n",
    "- Escolha do teste ideal para o problema.\n",
    "- Formulação das hipóteses.\n",
    "- Preparação dos Dados (se necessário).\n",
    "- Execução do Teste\n",
    "- Interpretação do resultado do Teste."
   ]
  },
  {
   "cell_type": "markdown",
   "id": "740a9807",
   "metadata": {},
   "source": [
    "## <br>Testes"
   ]
  },
  {
   "cell_type": "markdown",
   "id": "8b3feee9",
   "metadata": {},
   "source": [
    "#### Serão realizados 4 Testes diferentes para responder as 4 perguntas.\n",
    "\n",
    "- 3 Testes para Variáveis Numéricas\n",
    "- 1 Teste para Variável Categórica"
   ]
  },
  {
   "cell_type": "markdown",
   "id": "e780791c",
   "metadata": {},
   "source": [
    "## <br>Perguntas"
   ]
  },
  {
   "cell_type": "markdown",
   "id": "d5e1ffa8",
   "metadata": {},
   "source": [
    "- 1) O consumo médio de largura de banda do mês anterior ao upgrade foi maior que 50? <br>\n",
    "(Neste caso usaremos um **Teste t de Uma Amostra**)<br><br>\n",
    "- 2) O consumo médio de largura de banda do primeiro mês após ao upgrade foi maior que 54? <br>\n",
    "(Neste caso usaremos um **Teste t de Uma Amostra**)<br><br>\n",
    "- 3) Houve diferença de consumo de largura de banda antes e depois do upgrade, considerando o primeiro mês após o upgrade?<br>\n",
    "(Neste caso usaremos: **Teste t de Duas Amostras (Pareado)**)<br><br>\n",
    "- 4) O gênero do cliente influenciou o consumo de largura de banda no primeiro mês após o upgrade? <br>\n",
    "(Neste caso usaremos: **Teste t de Duas Amostras Independentes**)<br><br>\n",
    "- 5) Há alguma relação entre região e segmento do cliente?<br>\n",
    "(Neste caso usaremos: **Teste do Qui-Quadrado**)<br><br><br>"
   ]
  },
  {
   "cell_type": "code",
   "execution_count": 3,
   "id": "6053aad5",
   "metadata": {},
   "outputs": [],
   "source": [
    "# Imports\n",
    "\n",
    "import pandas as pd\n",
    "import numpy as np\n",
    "import scipy.stats as stats"
   ]
  },
  {
   "cell_type": "markdown",
   "id": "d206b845",
   "metadata": {},
   "source": [
    "## <br><br>Carregando os Dados"
   ]
  },
  {
   "cell_type": "code",
   "execution_count": 4,
   "id": "331eb760",
   "metadata": {},
   "outputs": [],
   "source": [
    "# Carrega os dados\n",
    "df = pd.read_csv(r\"dados/dataset.csv\")"
   ]
  },
  {
   "cell_type": "code",
   "execution_count": 5,
   "id": "c3a05814",
   "metadata": {},
   "outputs": [
    {
     "data": {
      "text/plain": [
       "(200, 10)"
      ]
     },
     "execution_count": 5,
     "metadata": {},
     "output_type": "execute_result"
    }
   ],
   "source": [
    "# Dimensão\n",
    "df.shape"
   ]
  },
  {
   "cell_type": "code",
   "execution_count": 6,
   "id": "7a2c6534",
   "metadata": {},
   "outputs": [
    {
     "data": {
      "text/html": [
       "<div>\n",
       "<style scoped>\n",
       "    .dataframe tbody tr th:only-of-type {\n",
       "        vertical-align: middle;\n",
       "    }\n",
       "\n",
       "    .dataframe tbody tr th {\n",
       "        vertical-align: top;\n",
       "    }\n",
       "\n",
       "    .dataframe thead th {\n",
       "        text-align: right;\n",
       "    }\n",
       "</style>\n",
       "<table border=\"1\" class=\"dataframe\">\n",
       "  <thead>\n",
       "    <tr style=\"text-align: right;\">\n",
       "      <th></th>\n",
       "      <th>id_cliente</th>\n",
       "      <th>genero</th>\n",
       "      <th>canal_atendimento</th>\n",
       "      <th>regiao</th>\n",
       "      <th>estado_civil</th>\n",
       "      <th>segmento</th>\n",
       "      <th>consumo_medio_mensal_antes_upgrade</th>\n",
       "      <th>consumo_medio_mes_anterior_ao_upgrade</th>\n",
       "      <th>consumo_medio_primeiro_mes_apos_upgrade</th>\n",
       "      <th>consumo_medio_segundo_mes_apos_upgrade</th>\n",
       "    </tr>\n",
       "  </thead>\n",
       "  <tbody>\n",
       "    <tr>\n",
       "      <th>0</th>\n",
       "      <td>70</td>\n",
       "      <td>0</td>\n",
       "      <td>4</td>\n",
       "      <td>1</td>\n",
       "      <td>1</td>\n",
       "      <td>1</td>\n",
       "      <td>57</td>\n",
       "      <td>49.2</td>\n",
       "      <td>52</td>\n",
       "      <td>57.2</td>\n",
       "    </tr>\n",
       "    <tr>\n",
       "      <th>1</th>\n",
       "      <td>121</td>\n",
       "      <td>1</td>\n",
       "      <td>4</td>\n",
       "      <td>2</td>\n",
       "      <td>1</td>\n",
       "      <td>3</td>\n",
       "      <td>68</td>\n",
       "      <td>63.6</td>\n",
       "      <td>59</td>\n",
       "      <td>64.9</td>\n",
       "    </tr>\n",
       "    <tr>\n",
       "      <th>2</th>\n",
       "      <td>86</td>\n",
       "      <td>0</td>\n",
       "      <td>4</td>\n",
       "      <td>3</td>\n",
       "      <td>1</td>\n",
       "      <td>1</td>\n",
       "      <td>44</td>\n",
       "      <td>64.8</td>\n",
       "      <td>33</td>\n",
       "      <td>36.3</td>\n",
       "    </tr>\n",
       "    <tr>\n",
       "      <th>3</th>\n",
       "      <td>141</td>\n",
       "      <td>0</td>\n",
       "      <td>4</td>\n",
       "      <td>3</td>\n",
       "      <td>1</td>\n",
       "      <td>3</td>\n",
       "      <td>63</td>\n",
       "      <td>56.4</td>\n",
       "      <td>44</td>\n",
       "      <td>48.4</td>\n",
       "    </tr>\n",
       "    <tr>\n",
       "      <th>4</th>\n",
       "      <td>172</td>\n",
       "      <td>0</td>\n",
       "      <td>4</td>\n",
       "      <td>2</td>\n",
       "      <td>1</td>\n",
       "      <td>2</td>\n",
       "      <td>47</td>\n",
       "      <td>68.4</td>\n",
       "      <td>52</td>\n",
       "      <td>57.2</td>\n",
       "    </tr>\n",
       "  </tbody>\n",
       "</table>\n",
       "</div>"
      ],
      "text/plain": [
       "   id_cliente  genero  canal_atendimento  regiao  estado_civil  segmento  \\\n",
       "0          70       0                  4       1             1         1   \n",
       "1         121       1                  4       2             1         3   \n",
       "2          86       0                  4       3             1         1   \n",
       "3         141       0                  4       3             1         3   \n",
       "4         172       0                  4       2             1         2   \n",
       "\n",
       "   consumo_medio_mensal_antes_upgrade  consumo_medio_mes_anterior_ao_upgrade  \\\n",
       "0                                  57                                   49.2   \n",
       "1                                  68                                   63.6   \n",
       "2                                  44                                   64.8   \n",
       "3                                  63                                   56.4   \n",
       "4                                  47                                   68.4   \n",
       "\n",
       "   consumo_medio_primeiro_mes_apos_upgrade  \\\n",
       "0                                       52   \n",
       "1                                       59   \n",
       "2                                       33   \n",
       "3                                       44   \n",
       "4                                       52   \n",
       "\n",
       "   consumo_medio_segundo_mes_apos_upgrade  \n",
       "0                                    57.2  \n",
       "1                                    64.9  \n",
       "2                                    36.3  \n",
       "3                                    48.4  \n",
       "4                                    57.2  "
      ]
     },
     "execution_count": 6,
     "metadata": {},
     "output_type": "execute_result"
    }
   ],
   "source": [
    "# Visualizando\n",
    "df.head()"
   ]
  },
  {
   "cell_type": "code",
   "execution_count": 7,
   "id": "9951ee5c",
   "metadata": {},
   "outputs": [
    {
     "data": {
      "text/plain": [
       "Index(['id_cliente', 'genero', 'canal_atendimento', 'regiao', 'estado_civil',\n",
       "       'segmento', 'consumo_medio_mensal_antes_upgrade',\n",
       "       'consumo_medio_mes_anterior_ao_upgrade',\n",
       "       'consumo_medio_primeiro_mes_apos_upgrade',\n",
       "       'consumo_medio_segundo_mes_apos_upgrade'],\n",
       "      dtype='object')"
      ]
     },
     "execution_count": 7,
     "metadata": {},
     "output_type": "execute_result"
    }
   ],
   "source": [
    "# Verificando Nome de Colunas\n",
    "df.columns"
   ]
  },
  {
   "cell_type": "code",
   "execution_count": 8,
   "id": "507eb8e0",
   "metadata": {},
   "outputs": [
    {
     "name": "stdout",
     "output_type": "stream",
     "text": [
      "<class 'pandas.core.frame.DataFrame'>\n",
      "RangeIndex: 200 entries, 0 to 199\n",
      "Data columns (total 10 columns):\n",
      " #   Column                                   Non-Null Count  Dtype  \n",
      "---  ------                                   --------------  -----  \n",
      " 0   id_cliente                               200 non-null    int64  \n",
      " 1   genero                                   200 non-null    int64  \n",
      " 2   canal_atendimento                        200 non-null    int64  \n",
      " 3   regiao                                   200 non-null    int64  \n",
      " 4   estado_civil                             200 non-null    int64  \n",
      " 5   segmento                                 200 non-null    int64  \n",
      " 6   consumo_medio_mensal_antes_upgrade       200 non-null    int64  \n",
      " 7   consumo_medio_mes_anterior_ao_upgrade    200 non-null    float64\n",
      " 8   consumo_medio_primeiro_mes_apos_upgrade  200 non-null    int64  \n",
      " 9   consumo_medio_segundo_mes_apos_upgrade   200 non-null    float64\n",
      "dtypes: float64(2), int64(8)\n",
      "memory usage: 15.8 KB\n"
     ]
    }
   ],
   "source": [
    "# Info\n",
    "df.info()"
   ]
  },
  {
   "cell_type": "code",
   "execution_count": 9,
   "id": "50227db8",
   "metadata": {},
   "outputs": [
    {
     "data": {
      "text/html": [
       "<div>\n",
       "<style scoped>\n",
       "    .dataframe tbody tr th:only-of-type {\n",
       "        vertical-align: middle;\n",
       "    }\n",
       "\n",
       "    .dataframe tbody tr th {\n",
       "        vertical-align: top;\n",
       "    }\n",
       "\n",
       "    .dataframe thead th {\n",
       "        text-align: right;\n",
       "    }\n",
       "</style>\n",
       "<table border=\"1\" class=\"dataframe\">\n",
       "  <thead>\n",
       "    <tr style=\"text-align: right;\">\n",
       "      <th></th>\n",
       "      <th>id_cliente</th>\n",
       "      <th>genero</th>\n",
       "      <th>canal_atendimento</th>\n",
       "      <th>regiao</th>\n",
       "      <th>estado_civil</th>\n",
       "      <th>segmento</th>\n",
       "      <th>consumo_medio_mensal_antes_upgrade</th>\n",
       "      <th>consumo_medio_mes_anterior_ao_upgrade</th>\n",
       "      <th>consumo_medio_primeiro_mes_apos_upgrade</th>\n",
       "      <th>consumo_medio_segundo_mes_apos_upgrade</th>\n",
       "    </tr>\n",
       "  </thead>\n",
       "  <tbody>\n",
       "    <tr>\n",
       "      <th>count</th>\n",
       "      <td>200.000000</td>\n",
       "      <td>200.00000</td>\n",
       "      <td>200.000000</td>\n",
       "      <td>200.000000</td>\n",
       "      <td>200.000000</td>\n",
       "      <td>200.000000</td>\n",
       "      <td>200.000000</td>\n",
       "      <td>200.000000</td>\n",
       "      <td>200.000000</td>\n",
       "      <td>200.000000</td>\n",
       "    </tr>\n",
       "    <tr>\n",
       "      <th>mean</th>\n",
       "      <td>100.500000</td>\n",
       "      <td>0.54500</td>\n",
       "      <td>3.430000</td>\n",
       "      <td>2.055000</td>\n",
       "      <td>1.160000</td>\n",
       "      <td>2.025000</td>\n",
       "      <td>52.230000</td>\n",
       "      <td>63.174000</td>\n",
       "      <td>52.775000</td>\n",
       "      <td>58.052500</td>\n",
       "    </tr>\n",
       "    <tr>\n",
       "      <th>std</th>\n",
       "      <td>57.879185</td>\n",
       "      <td>0.49922</td>\n",
       "      <td>1.039472</td>\n",
       "      <td>0.724291</td>\n",
       "      <td>0.367526</td>\n",
       "      <td>0.690477</td>\n",
       "      <td>10.252937</td>\n",
       "      <td>11.242137</td>\n",
       "      <td>9.478586</td>\n",
       "      <td>10.426445</td>\n",
       "    </tr>\n",
       "    <tr>\n",
       "      <th>min</th>\n",
       "      <td>1.000000</td>\n",
       "      <td>0.00000</td>\n",
       "      <td>1.000000</td>\n",
       "      <td>1.000000</td>\n",
       "      <td>1.000000</td>\n",
       "      <td>1.000000</td>\n",
       "      <td>28.000000</td>\n",
       "      <td>39.600000</td>\n",
       "      <td>31.000000</td>\n",
       "      <td>34.100000</td>\n",
       "    </tr>\n",
       "    <tr>\n",
       "      <th>25%</th>\n",
       "      <td>50.750000</td>\n",
       "      <td>0.00000</td>\n",
       "      <td>3.000000</td>\n",
       "      <td>2.000000</td>\n",
       "      <td>1.000000</td>\n",
       "      <td>2.000000</td>\n",
       "      <td>44.000000</td>\n",
       "      <td>54.000000</td>\n",
       "      <td>45.750000</td>\n",
       "      <td>50.325000</td>\n",
       "    </tr>\n",
       "    <tr>\n",
       "      <th>50%</th>\n",
       "      <td>100.500000</td>\n",
       "      <td>1.00000</td>\n",
       "      <td>4.000000</td>\n",
       "      <td>2.000000</td>\n",
       "      <td>1.000000</td>\n",
       "      <td>2.000000</td>\n",
       "      <td>50.000000</td>\n",
       "      <td>62.400000</td>\n",
       "      <td>54.000000</td>\n",
       "      <td>59.400000</td>\n",
       "    </tr>\n",
       "    <tr>\n",
       "      <th>75%</th>\n",
       "      <td>150.250000</td>\n",
       "      <td>1.00000</td>\n",
       "      <td>4.000000</td>\n",
       "      <td>3.000000</td>\n",
       "      <td>1.000000</td>\n",
       "      <td>2.250000</td>\n",
       "      <td>60.000000</td>\n",
       "      <td>70.800000</td>\n",
       "      <td>60.000000</td>\n",
       "      <td>66.000000</td>\n",
       "    </tr>\n",
       "    <tr>\n",
       "      <th>max</th>\n",
       "      <td>200.000000</td>\n",
       "      <td>1.00000</td>\n",
       "      <td>4.000000</td>\n",
       "      <td>3.000000</td>\n",
       "      <td>2.000000</td>\n",
       "      <td>3.000000</td>\n",
       "      <td>76.000000</td>\n",
       "      <td>90.000000</td>\n",
       "      <td>67.000000</td>\n",
       "      <td>73.700000</td>\n",
       "    </tr>\n",
       "  </tbody>\n",
       "</table>\n",
       "</div>"
      ],
      "text/plain": [
       "       id_cliente     genero  canal_atendimento      regiao  estado_civil  \\\n",
       "count  200.000000  200.00000         200.000000  200.000000    200.000000   \n",
       "mean   100.500000    0.54500           3.430000    2.055000      1.160000   \n",
       "std     57.879185    0.49922           1.039472    0.724291      0.367526   \n",
       "min      1.000000    0.00000           1.000000    1.000000      1.000000   \n",
       "25%     50.750000    0.00000           3.000000    2.000000      1.000000   \n",
       "50%    100.500000    1.00000           4.000000    2.000000      1.000000   \n",
       "75%    150.250000    1.00000           4.000000    3.000000      1.000000   \n",
       "max    200.000000    1.00000           4.000000    3.000000      2.000000   \n",
       "\n",
       "         segmento  consumo_medio_mensal_antes_upgrade  \\\n",
       "count  200.000000                          200.000000   \n",
       "mean     2.025000                           52.230000   \n",
       "std      0.690477                           10.252937   \n",
       "min      1.000000                           28.000000   \n",
       "25%      2.000000                           44.000000   \n",
       "50%      2.000000                           50.000000   \n",
       "75%      2.250000                           60.000000   \n",
       "max      3.000000                           76.000000   \n",
       "\n",
       "       consumo_medio_mes_anterior_ao_upgrade  \\\n",
       "count                             200.000000   \n",
       "mean                               63.174000   \n",
       "std                                11.242137   \n",
       "min                                39.600000   \n",
       "25%                                54.000000   \n",
       "50%                                62.400000   \n",
       "75%                                70.800000   \n",
       "max                                90.000000   \n",
       "\n",
       "       consumo_medio_primeiro_mes_apos_upgrade  \\\n",
       "count                               200.000000   \n",
       "mean                                 52.775000   \n",
       "std                                   9.478586   \n",
       "min                                  31.000000   \n",
       "25%                                  45.750000   \n",
       "50%                                  54.000000   \n",
       "75%                                  60.000000   \n",
       "max                                  67.000000   \n",
       "\n",
       "       consumo_medio_segundo_mes_apos_upgrade  \n",
       "count                              200.000000  \n",
       "mean                                58.052500  \n",
       "std                                 10.426445  \n",
       "min                                 34.100000  \n",
       "25%                                 50.325000  \n",
       "50%                                 59.400000  \n",
       "75%                                 66.000000  \n",
       "max                                 73.700000  "
      ]
     },
     "execution_count": 9,
     "metadata": {},
     "output_type": "execute_result"
    }
   ],
   "source": [
    "# Describe\n",
    "df.describe()"
   ]
  },
  {
   "cell_type": "markdown",
   "id": "0087924a",
   "metadata": {},
   "source": [
    "<br><br>\n",
    "# <center>Perguntas</center><br><br>"
   ]
  },
  {
   "cell_type": "markdown",
   "id": "f35eb687",
   "metadata": {},
   "source": [
    "## Pergunta 1: \n",
    "\n",
    "### O consumo médio de largura de banda do mês anterior ao upgrade foi maior que 50?\n",
    "\n",
    "### Neste caso usaremos um Teste t de Uma Amostra.\n",
    "\n",
    "https://docs.scipy.org/doc/scipy/reference/generated/scipy.stats.ttest_1samp.html\n",
    "\n",
    "**Quando usar**: O Teste t de Uma Amostra é usado quando queremos comparar a média de uma amostra única com uma média populacional conhecida ou suposta, na ausência de informações sobre o desvio padrão da população.\n",
    "\n",
    "**Por quê usar**: Este teste é útil quando temos uma pequena amostra (tipicamente menos que 30) e não conhecemos o desvio padrão da população. Ele nos ajuda a entender se a média da amostra é significativamente diferente da média populacional proposta.\n",
    "\n",
    "**Motivo da escolha**: O Teste t de Uma Amostra foi escolhido para essa situação específica porque ele é adequado para avaliar a média de uma única amostra de dados contra uma média populacional conhecida ou uma média de referência específica. Neste caso, você quer testar se o consumo médio de largura de banda do mês anterior ao upgrade é significativamente diferente de 50 (um valor especificado). \n",
    "\n",
    "Hipóteses:\n",
    "\n",
    "- **H0**: O consumo médio de largura de banda antes do upgrade foi igual a 50.\n",
    "\n",
    "- **H1**: O consumo médio de largura de banda antes do upgrade foi diferente de 50.\n",
    "\n",
    "Se o valor-p for menor que 0,05 rejeitamos a H0. Caso contrário, falhamos em rejeitar a H0.\n",
    "\n",
    "Se um valor-p relatado a partir de um teste t for menor que 0,05, esse resultado é considerado estatisticamente significativo. Se um valor-p for maior que 0,05, o resultado é insignificante.\n",
    "\n",
    "Um valor-p de um teste t é a probabilidade de que os resultados de seus dados de amostra tenham ocorrido por acaso."
   ]
  },
  {
   "cell_type": "code",
   "execution_count": null,
   "id": "5a371158",
   "metadata": {},
   "outputs": [],
   "source": []
  },
  {
   "cell_type": "code",
   "execution_count": null,
   "id": "69717441",
   "metadata": {},
   "outputs": [],
   "source": []
  },
  {
   "cell_type": "markdown",
   "id": "67bd3a69",
   "metadata": {},
   "source": [
    "## Pergunta 2: \n",
    "\n",
    "### O consumo médio de largura de banda do primeiro mês após ao upgrade foi maior que 54?\n",
    "\n",
    "### Neste caso usaremos um Teste t de Uma Amostra.\n",
    "\n",
    "**Motivo da escolha**: O Teste t de Uma Amostra foi escolhido para esta situação específica porque ele permite avaliar se a média do consumo de largura de banda após o upgrade difere de um valor específico, neste caso, 54. A pergunta específica busca determinar se houve um aumento significativo no consumo médio de largura de banda após o upgrade em comparação a um limiar de 54.\n",
    "\n",
    "Hipóteses:\n",
    "\n",
    "- **H0**: O consumo médio de largura de banda no primeiro mês após o upgrade é igual ou menor que 54. Matematicamente, isso pode ser expresso como H0: μ ≤ 54.\n",
    "\n",
    "- **H1**: O consumo médio de largura de banda no primeiro mês após o upgrade é maior que 54. Em termos matemáticos, isso seria H1: μ > 54.\n",
    "\n",
    "Se o valor-p for menor que 0,05 rejeitamos a H0. Caso contrário, falhamos em rejeitar a H0.\n",
    "\n",
    "Se um valor-p relatado a partir de um teste t for menor que 0,05, esse resultado é considerado estatisticamente significativo. Se um valor-p for maior que 0,05, o resultado é insignificante.\n",
    "\n",
    "Um valor-p de um teste t é a probabilidade de que os resultados de seus dados de amostra tenham ocorrido por acaso."
   ]
  },
  {
   "cell_type": "code",
   "execution_count": null,
   "id": "7785e9e3",
   "metadata": {},
   "outputs": [],
   "source": []
  },
  {
   "cell_type": "code",
   "execution_count": null,
   "id": "9b883965",
   "metadata": {},
   "outputs": [],
   "source": []
  }
 ],
 "metadata": {
  "kernelspec": {
   "display_name": "Python 3 (ipykernel)",
   "language": "python",
   "name": "python3"
  },
  "language_info": {
   "codemirror_mode": {
    "name": "ipython",
    "version": 3
   },
   "file_extension": ".py",
   "mimetype": "text/x-python",
   "name": "python",
   "nbconvert_exporter": "python",
   "pygments_lexer": "ipython3",
   "version": "3.9.7"
  }
 },
 "nbformat": 4,
 "nbformat_minor": 5
}
