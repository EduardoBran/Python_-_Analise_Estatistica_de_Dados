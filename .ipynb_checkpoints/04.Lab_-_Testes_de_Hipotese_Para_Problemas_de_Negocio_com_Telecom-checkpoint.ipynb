{
 "cells": [
  {
   "cell_type": "markdown",
   "id": "26e78b37",
   "metadata": {},
   "source": [
    "# <font color='blue'>Data Science Academy</font>\n",
    "# <font color='blue'>Big Data Real-Time Analytics com Python e Spark</font>"
   ]
  },
  {
   "cell_type": "markdown",
   "id": "aba16d55",
   "metadata": {},
   "source": [
    "# <br><br><font color='darkgreen'><center>Testes de Hipótese em Linguagem Python Para Problemas de Negócio em Telecom</center></font>"
   ]
  },
  {
   "cell_type": "markdown",
   "id": "2233afb2",
   "metadata": {},
   "source": [
    "## <br><br>Contexto"
   ]
  },
  {
   "cell_type": "markdown",
   "id": "a91d5fcc",
   "metadata": {},
   "source": [
    "- Um provedor de internet oferece diversos tipos de planos de acesso com diferentes larguras de banda. A empresa então fez um upgrade da sua infraestrutura e gostaria de validar algumas hipóteses sobre o consumo de largura de banda dos clientes.\n",
    "- A empresa possuía dados do consumo médio de largura de banda antes do upgrade e registrou o consumo no primeiro mês após o upgrade, no segundo mês e no mês anterior ao upgrade. Os dados foram registrados junto com algumas características dos clientes.\n",
    "- Algumas perguntas de negócio foram formuladas e agora iremos respondê-las através de **4 testes de hipótese**.\n",
    "- Os dados usados são fictícios."
   ]
  },
  {
   "cell_type": "markdown",
   "id": "badceb42",
   "metadata": {},
   "source": [
    "## <br>Objetivo"
   ]
  },
  {
   "cell_type": "markdown",
   "id": "d62a2721",
   "metadata": {},
   "source": [
    "#### O objetivo deste projeto é demonstrar na pŕatica como utilizamos um Teste de Hipóteste do início ao fim.\n",
    "\n",
    "- Iniciando com a formulação do problema.\n",
    "- Escolha do teste ideal para o problema.\n",
    "- Formulação das hipóteses.\n",
    "- Preparação dos Dados (se necessário).\n",
    "- Execução do Teste\n",
    "- Interpretação do resultado do Teste."
   ]
  },
  {
   "cell_type": "markdown",
   "id": "740a9807",
   "metadata": {},
   "source": [
    "## <br>Testes"
   ]
  },
  {
   "cell_type": "markdown",
   "id": "8b3feee9",
   "metadata": {},
   "source": [
    "#### Serão realizados 4 Testes diferentes para responder as 4 perguntas.\n",
    "\n",
    "- 3 Testes para Variáveis Numéricas\n",
    "- 1 Teste para Variável Categórica"
   ]
  },
  {
   "cell_type": "markdown",
   "id": "26645623",
   "metadata": {},
   "source": [
    "## <br>Perguntas"
   ]
  },
  {
   "cell_type": "markdown",
   "id": "e7a5dc4c",
   "metadata": {},
   "source": [
    "- 1) O consumo médio de largura de banda do mês anterior ao upgrade foi maior que 50? <br>\n",
    "(Neste caso usaremos um **Teste t de Uma Amostra**)<br><br>\n",
    "- 2) O consumo médio de largura de banda do primeiro mês após ao upgrade foi maior que 54? <br>\n",
    "(Neste caso usaremos um **Teste t de Uma Amostra**)<br><br>\n",
    "- 3) Houve diferença de consumo de largura de banda antes e depois do upgrade, considerando o primeiro mês após o upgrade?<br>\n",
    "(Neste caso usaremos: **Teste t de Duas Amostras (Pareado)**)<br><br>\n",
    "- 4) O gênero do cliente influenciou o consumo de largura de banda no primeiro mês após o upgrade? <br>\n",
    "(Neste caso usaremos: **Teste t de Duas Amostras Independentes**)<br><br>\n",
    "- 5) Há alguma relação entre região e segmento do cliente?<br>\n",
    "(Neste caso usaremos: **Teste do Qui-Quadrado**)<br><br><br><br>\n",
    "\n",
    "- ## Novas Perguntas <br><br>\n",
    "\n",
    "- 6) O uso do cartão melhorou significativamente em relação ao ano passado, que era 50?<br>\n",
    "(Neste caso usaremos: ****)<br><br>\n",
    "- 7) A última campanha foi bem-sucedida em termos de uso do cartão de crédito?<br>\n",
    "(Neste caso usaremos: ****)<br><br>\n",
    "- 8) Existe diferença de uso do cartão de crédito entre homens e mulheres?<br>\n",
    "(Neste caso usaremos: ****)<br><br>\n",
    "- 9) Existe diferença entre os segmentos de clientes em termos de uso do cartão de crédito?<br>\n",
    "(Neste caso usaremos: ****)<br><br>\n",
    "- 10) Existe uma relação entre o uso do cartão no último mês e o uso pré-campanha?<br><br><br>"
   ]
  },
  {
   "cell_type": "markdown",
   "id": "747b692a",
   "metadata": {},
   "source": [
    "## <br>Suposições antes de Aplicar os Testes"
   ]
  },
  {
   "cell_type": "markdown",
   "id": "5169d9cf",
   "metadata": {},
   "source": [
    "Ao realizar testes estatísticos, é fundamental garantir que as condições para a validade dos testes sejam satisfeitas para obter resultados confiáveis. <br>\n",
    "\n",
    "### Teste t de Uma Amostra\n",
    "- Objetivo: Comparar a média de uma amostra com um valor específico.\n",
    "\n",
    "**Condições a verificar:**\n",
    "\n",
    "- Normalidade: Os dados devem ser aproximadamente normalmente distribuídos. A normalidade pode ser verificada usando testes como Shapiro-Wilk para amostras menores ou visualmente através de Q-Q plots.\n",
    "- Independência: As observações devem ser independentes umas das outras.\n",
    "- Outliers: Verifique a presença de outliers que podem influenciar a média de maneira significativa. Outliers podem ser tratados ou removidos conforme necessário para evitar distorções nos resultados.\n",
    "\n",
    "### Teste t de Duas Amostras (Pareado)\n",
    "- Objetivo: Comparar as médias de duas amostras relacionadas ou pareadas.\n",
    "\n",
    "**Condições a verificar:**\n",
    "\n",
    "- Diferenças Pareadas Normais: As diferenças entre os pares devem seguir uma distribuição aproximadamente normal.\n",
    "- Pares Dependentes: Os pares devem ser dependências naturais ou lógicas, como medidas antes e depois em um mesmo sujeito ou medidas em sujeitos pareados.\n",
    "- Outliers: Assim como no teste de uma amostra, avaliar e tratar outliers nas diferenças entre os pares é crucial para não distorcer as comparações.\n",
    "\n",
    "### Teste t de Duas Amostras Independentes\n",
    "- Objetivo: Comparar as médias de duas amostras independentes.\n",
    "\n",
    "**Condições a verificar:**\n",
    "\n",
    "- Normalidade: Ambas as amostras devem ser aproximadamente normais. Testes de normalidade devem ser aplicados separadamente a cada grupo.\n",
    "- Independência: As duas amostras devem ser coletadas independentemente, sem sobreposição entre os grupos.\n",
    "- Homogeneidade de Variâncias (Homocedasticidade): As variâncias dos dois grupos devem ser similares, o que pode ser testado pelo Teste de Levene ou Teste F.\n",
    "- Outliers: Avaliar e potencialmente ajustar outliers em cada grupo para evitar efeitos distorcidos nas médias.\n",
    "\n",
    "### Teste do Qui-Quadrado\n",
    "- Objetivo: Avaliar a independência entre duas variáveis categóricas.\n",
    "\n",
    "**Condições a verificar:**\n",
    "\n",
    "- Tamanho da Amostra Adequado: Cada célula da tabela de contingência deve ter pelo menos 5 observações. Se algumas células tiverem menos de 5, considerar agrupar categorias.\n",
    "- Independência das Observações: As observações devem ser coletadas de forma independente, e cada observação pode ser classificada em apenas uma célula da tabela de contingência.\n",
    "- Amostra Grande o Suficiente: O teste do qui-quadrado é mais confiável quando o tamanho da amostra é grande. Se o número total de observações é muito pequeno, o teste pode não ter poder estatístico adequado."
   ]
  },
  {
   "cell_type": "markdown",
   "id": "f7f20f0f",
   "metadata": {},
   "source": [
    "### Para esta lista de perguntas estamos partindo do princípio que as validações foram atendidas.<br><br><br>"
   ]
  },
  {
   "cell_type": "code",
   "execution_count": 3,
   "id": "f17b9ad7",
   "metadata": {},
   "outputs": [],
   "source": [
    "# Imports\n",
    "\n",
    "import pandas as pd\n",
    "import numpy as np\n",
    "import scipy.stats as stats"
   ]
  },
  {
   "cell_type": "markdown",
   "id": "d206b845",
   "metadata": {},
   "source": [
    "## <br><br>Carregando os Dados"
   ]
  },
  {
   "cell_type": "code",
   "execution_count": 4,
   "id": "331eb760",
   "metadata": {},
   "outputs": [],
   "source": [
    "# Carrega os dados\n",
    "df = pd.read_csv(r\"dados/dataset.csv\")"
   ]
  },
  {
   "cell_type": "code",
   "execution_count": 5,
   "id": "7f041cd0",
   "metadata": {},
   "outputs": [
    {
     "data": {
      "text/plain": [
       "(200, 10)"
      ]
     },
     "execution_count": 5,
     "metadata": {},
     "output_type": "execute_result"
    }
   ],
   "source": [
    "# Dimensão\n",
    "df.shape"
   ]
  },
  {
   "cell_type": "code",
   "execution_count": 6,
   "id": "b0c5b018",
   "metadata": {},
   "outputs": [
    {
     "data": {
      "text/html": [
       "<div>\n",
       "<style scoped>\n",
       "    .dataframe tbody tr th:only-of-type {\n",
       "        vertical-align: middle;\n",
       "    }\n",
       "\n",
       "    .dataframe tbody tr th {\n",
       "        vertical-align: top;\n",
       "    }\n",
       "\n",
       "    .dataframe thead th {\n",
       "        text-align: right;\n",
       "    }\n",
       "</style>\n",
       "<table border=\"1\" class=\"dataframe\">\n",
       "  <thead>\n",
       "    <tr style=\"text-align: right;\">\n",
       "      <th></th>\n",
       "      <th>id_cliente</th>\n",
       "      <th>genero</th>\n",
       "      <th>canal_atendimento</th>\n",
       "      <th>regiao</th>\n",
       "      <th>estado_civil</th>\n",
       "      <th>segmento</th>\n",
       "      <th>consumo_medio_mensal_antes_upgrade</th>\n",
       "      <th>consumo_medio_mes_anterior_ao_upgrade</th>\n",
       "      <th>consumo_medio_primeiro_mes_apos_upgrade</th>\n",
       "      <th>consumo_medio_segundo_mes_apos_upgrade</th>\n",
       "    </tr>\n",
       "  </thead>\n",
       "  <tbody>\n",
       "    <tr>\n",
       "      <th>0</th>\n",
       "      <td>70</td>\n",
       "      <td>0</td>\n",
       "      <td>4</td>\n",
       "      <td>1</td>\n",
       "      <td>1</td>\n",
       "      <td>1</td>\n",
       "      <td>57</td>\n",
       "      <td>49.2</td>\n",
       "      <td>52</td>\n",
       "      <td>57.2</td>\n",
       "    </tr>\n",
       "    <tr>\n",
       "      <th>1</th>\n",
       "      <td>121</td>\n",
       "      <td>1</td>\n",
       "      <td>4</td>\n",
       "      <td>2</td>\n",
       "      <td>1</td>\n",
       "      <td>3</td>\n",
       "      <td>68</td>\n",
       "      <td>63.6</td>\n",
       "      <td>59</td>\n",
       "      <td>64.9</td>\n",
       "    </tr>\n",
       "    <tr>\n",
       "      <th>2</th>\n",
       "      <td>86</td>\n",
       "      <td>0</td>\n",
       "      <td>4</td>\n",
       "      <td>3</td>\n",
       "      <td>1</td>\n",
       "      <td>1</td>\n",
       "      <td>44</td>\n",
       "      <td>64.8</td>\n",
       "      <td>33</td>\n",
       "      <td>36.3</td>\n",
       "    </tr>\n",
       "    <tr>\n",
       "      <th>3</th>\n",
       "      <td>141</td>\n",
       "      <td>0</td>\n",
       "      <td>4</td>\n",
       "      <td>3</td>\n",
       "      <td>1</td>\n",
       "      <td>3</td>\n",
       "      <td>63</td>\n",
       "      <td>56.4</td>\n",
       "      <td>44</td>\n",
       "      <td>48.4</td>\n",
       "    </tr>\n",
       "    <tr>\n",
       "      <th>4</th>\n",
       "      <td>172</td>\n",
       "      <td>0</td>\n",
       "      <td>4</td>\n",
       "      <td>2</td>\n",
       "      <td>1</td>\n",
       "      <td>2</td>\n",
       "      <td>47</td>\n",
       "      <td>68.4</td>\n",
       "      <td>52</td>\n",
       "      <td>57.2</td>\n",
       "    </tr>\n",
       "  </tbody>\n",
       "</table>\n",
       "</div>"
      ],
      "text/plain": [
       "   id_cliente  genero  canal_atendimento  regiao  estado_civil  segmento  \\\n",
       "0          70       0                  4       1             1         1   \n",
       "1         121       1                  4       2             1         3   \n",
       "2          86       0                  4       3             1         1   \n",
       "3         141       0                  4       3             1         3   \n",
       "4         172       0                  4       2             1         2   \n",
       "\n",
       "   consumo_medio_mensal_antes_upgrade  consumo_medio_mes_anterior_ao_upgrade  \\\n",
       "0                                  57                                   49.2   \n",
       "1                                  68                                   63.6   \n",
       "2                                  44                                   64.8   \n",
       "3                                  63                                   56.4   \n",
       "4                                  47                                   68.4   \n",
       "\n",
       "   consumo_medio_primeiro_mes_apos_upgrade  \\\n",
       "0                                       52   \n",
       "1                                       59   \n",
       "2                                       33   \n",
       "3                                       44   \n",
       "4                                       52   \n",
       "\n",
       "   consumo_medio_segundo_mes_apos_upgrade  \n",
       "0                                    57.2  \n",
       "1                                    64.9  \n",
       "2                                    36.3  \n",
       "3                                    48.4  \n",
       "4                                    57.2  "
      ]
     },
     "execution_count": 6,
     "metadata": {},
     "output_type": "execute_result"
    }
   ],
   "source": [
    "# Visualizando\n",
    "df.head()"
   ]
  },
  {
   "cell_type": "code",
   "execution_count": 7,
   "id": "0296213e",
   "metadata": {},
   "outputs": [
    {
     "data": {
      "text/plain": [
       "Index(['id_cliente', 'genero', 'canal_atendimento', 'regiao', 'estado_civil',\n",
       "       'segmento', 'consumo_medio_mensal_antes_upgrade',\n",
       "       'consumo_medio_mes_anterior_ao_upgrade',\n",
       "       'consumo_medio_primeiro_mes_apos_upgrade',\n",
       "       'consumo_medio_segundo_mes_apos_upgrade'],\n",
       "      dtype='object')"
      ]
     },
     "execution_count": 7,
     "metadata": {},
     "output_type": "execute_result"
    }
   ],
   "source": [
    "# Verificando Nome de Colunas\n",
    "df.columns"
   ]
  },
  {
   "cell_type": "code",
   "execution_count": 8,
   "id": "42d538a9",
   "metadata": {},
   "outputs": [
    {
     "name": "stdout",
     "output_type": "stream",
     "text": [
      "<class 'pandas.core.frame.DataFrame'>\n",
      "RangeIndex: 200 entries, 0 to 199\n",
      "Data columns (total 10 columns):\n",
      " #   Column                                   Non-Null Count  Dtype  \n",
      "---  ------                                   --------------  -----  \n",
      " 0   id_cliente                               200 non-null    int64  \n",
      " 1   genero                                   200 non-null    int64  \n",
      " 2   canal_atendimento                        200 non-null    int64  \n",
      " 3   regiao                                   200 non-null    int64  \n",
      " 4   estado_civil                             200 non-null    int64  \n",
      " 5   segmento                                 200 non-null    int64  \n",
      " 6   consumo_medio_mensal_antes_upgrade       200 non-null    int64  \n",
      " 7   consumo_medio_mes_anterior_ao_upgrade    200 non-null    float64\n",
      " 8   consumo_medio_primeiro_mes_apos_upgrade  200 non-null    int64  \n",
      " 9   consumo_medio_segundo_mes_apos_upgrade   200 non-null    float64\n",
      "dtypes: float64(2), int64(8)\n",
      "memory usage: 15.8 KB\n"
     ]
    }
   ],
   "source": [
    "# Info\n",
    "df.info()"
   ]
  },
  {
   "cell_type": "code",
   "execution_count": 9,
   "id": "6838dd5f",
   "metadata": {},
   "outputs": [
    {
     "data": {
      "text/html": [
       "<div>\n",
       "<style scoped>\n",
       "    .dataframe tbody tr th:only-of-type {\n",
       "        vertical-align: middle;\n",
       "    }\n",
       "\n",
       "    .dataframe tbody tr th {\n",
       "        vertical-align: top;\n",
       "    }\n",
       "\n",
       "    .dataframe thead th {\n",
       "        text-align: right;\n",
       "    }\n",
       "</style>\n",
       "<table border=\"1\" class=\"dataframe\">\n",
       "  <thead>\n",
       "    <tr style=\"text-align: right;\">\n",
       "      <th></th>\n",
       "      <th>id_cliente</th>\n",
       "      <th>genero</th>\n",
       "      <th>canal_atendimento</th>\n",
       "      <th>regiao</th>\n",
       "      <th>estado_civil</th>\n",
       "      <th>segmento</th>\n",
       "      <th>consumo_medio_mensal_antes_upgrade</th>\n",
       "      <th>consumo_medio_mes_anterior_ao_upgrade</th>\n",
       "      <th>consumo_medio_primeiro_mes_apos_upgrade</th>\n",
       "      <th>consumo_medio_segundo_mes_apos_upgrade</th>\n",
       "    </tr>\n",
       "  </thead>\n",
       "  <tbody>\n",
       "    <tr>\n",
       "      <th>count</th>\n",
       "      <td>200.000000</td>\n",
       "      <td>200.00000</td>\n",
       "      <td>200.000000</td>\n",
       "      <td>200.000000</td>\n",
       "      <td>200.000000</td>\n",
       "      <td>200.000000</td>\n",
       "      <td>200.000000</td>\n",
       "      <td>200.000000</td>\n",
       "      <td>200.000000</td>\n",
       "      <td>200.000000</td>\n",
       "    </tr>\n",
       "    <tr>\n",
       "      <th>mean</th>\n",
       "      <td>100.500000</td>\n",
       "      <td>0.54500</td>\n",
       "      <td>3.430000</td>\n",
       "      <td>2.055000</td>\n",
       "      <td>1.160000</td>\n",
       "      <td>2.025000</td>\n",
       "      <td>52.230000</td>\n",
       "      <td>63.174000</td>\n",
       "      <td>52.775000</td>\n",
       "      <td>58.052500</td>\n",
       "    </tr>\n",
       "    <tr>\n",
       "      <th>std</th>\n",
       "      <td>57.879185</td>\n",
       "      <td>0.49922</td>\n",
       "      <td>1.039472</td>\n",
       "      <td>0.724291</td>\n",
       "      <td>0.367526</td>\n",
       "      <td>0.690477</td>\n",
       "      <td>10.252937</td>\n",
       "      <td>11.242137</td>\n",
       "      <td>9.478586</td>\n",
       "      <td>10.426445</td>\n",
       "    </tr>\n",
       "    <tr>\n",
       "      <th>min</th>\n",
       "      <td>1.000000</td>\n",
       "      <td>0.00000</td>\n",
       "      <td>1.000000</td>\n",
       "      <td>1.000000</td>\n",
       "      <td>1.000000</td>\n",
       "      <td>1.000000</td>\n",
       "      <td>28.000000</td>\n",
       "      <td>39.600000</td>\n",
       "      <td>31.000000</td>\n",
       "      <td>34.100000</td>\n",
       "    </tr>\n",
       "    <tr>\n",
       "      <th>25%</th>\n",
       "      <td>50.750000</td>\n",
       "      <td>0.00000</td>\n",
       "      <td>3.000000</td>\n",
       "      <td>2.000000</td>\n",
       "      <td>1.000000</td>\n",
       "      <td>2.000000</td>\n",
       "      <td>44.000000</td>\n",
       "      <td>54.000000</td>\n",
       "      <td>45.750000</td>\n",
       "      <td>50.325000</td>\n",
       "    </tr>\n",
       "    <tr>\n",
       "      <th>50%</th>\n",
       "      <td>100.500000</td>\n",
       "      <td>1.00000</td>\n",
       "      <td>4.000000</td>\n",
       "      <td>2.000000</td>\n",
       "      <td>1.000000</td>\n",
       "      <td>2.000000</td>\n",
       "      <td>50.000000</td>\n",
       "      <td>62.400000</td>\n",
       "      <td>54.000000</td>\n",
       "      <td>59.400000</td>\n",
       "    </tr>\n",
       "    <tr>\n",
       "      <th>75%</th>\n",
       "      <td>150.250000</td>\n",
       "      <td>1.00000</td>\n",
       "      <td>4.000000</td>\n",
       "      <td>3.000000</td>\n",
       "      <td>1.000000</td>\n",
       "      <td>2.250000</td>\n",
       "      <td>60.000000</td>\n",
       "      <td>70.800000</td>\n",
       "      <td>60.000000</td>\n",
       "      <td>66.000000</td>\n",
       "    </tr>\n",
       "    <tr>\n",
       "      <th>max</th>\n",
       "      <td>200.000000</td>\n",
       "      <td>1.00000</td>\n",
       "      <td>4.000000</td>\n",
       "      <td>3.000000</td>\n",
       "      <td>2.000000</td>\n",
       "      <td>3.000000</td>\n",
       "      <td>76.000000</td>\n",
       "      <td>90.000000</td>\n",
       "      <td>67.000000</td>\n",
       "      <td>73.700000</td>\n",
       "    </tr>\n",
       "  </tbody>\n",
       "</table>\n",
       "</div>"
      ],
      "text/plain": [
       "       id_cliente     genero  canal_atendimento      regiao  estado_civil  \\\n",
       "count  200.000000  200.00000         200.000000  200.000000    200.000000   \n",
       "mean   100.500000    0.54500           3.430000    2.055000      1.160000   \n",
       "std     57.879185    0.49922           1.039472    0.724291      0.367526   \n",
       "min      1.000000    0.00000           1.000000    1.000000      1.000000   \n",
       "25%     50.750000    0.00000           3.000000    2.000000      1.000000   \n",
       "50%    100.500000    1.00000           4.000000    2.000000      1.000000   \n",
       "75%    150.250000    1.00000           4.000000    3.000000      1.000000   \n",
       "max    200.000000    1.00000           4.000000    3.000000      2.000000   \n",
       "\n",
       "         segmento  consumo_medio_mensal_antes_upgrade  \\\n",
       "count  200.000000                          200.000000   \n",
       "mean     2.025000                           52.230000   \n",
       "std      0.690477                           10.252937   \n",
       "min      1.000000                           28.000000   \n",
       "25%      2.000000                           44.000000   \n",
       "50%      2.000000                           50.000000   \n",
       "75%      2.250000                           60.000000   \n",
       "max      3.000000                           76.000000   \n",
       "\n",
       "       consumo_medio_mes_anterior_ao_upgrade  \\\n",
       "count                             200.000000   \n",
       "mean                               63.174000   \n",
       "std                                11.242137   \n",
       "min                                39.600000   \n",
       "25%                                54.000000   \n",
       "50%                                62.400000   \n",
       "75%                                70.800000   \n",
       "max                                90.000000   \n",
       "\n",
       "       consumo_medio_primeiro_mes_apos_upgrade  \\\n",
       "count                               200.000000   \n",
       "mean                                 52.775000   \n",
       "std                                   9.478586   \n",
       "min                                  31.000000   \n",
       "25%                                  45.750000   \n",
       "50%                                  54.000000   \n",
       "75%                                  60.000000   \n",
       "max                                  67.000000   \n",
       "\n",
       "       consumo_medio_segundo_mes_apos_upgrade  \n",
       "count                              200.000000  \n",
       "mean                                58.052500  \n",
       "std                                 10.426445  \n",
       "min                                 34.100000  \n",
       "25%                                 50.325000  \n",
       "50%                                 59.400000  \n",
       "75%                                 66.000000  \n",
       "max                                 73.700000  "
      ]
     },
     "execution_count": 9,
     "metadata": {},
     "output_type": "execute_result"
    }
   ],
   "source": [
    "# Describe\n",
    "df.describe()"
   ]
  },
  {
   "cell_type": "markdown",
   "id": "419f7b85",
   "metadata": {},
   "source": [
    "<br><br>\n",
    "# <center>Perguntas</center><br><br>"
   ]
  },
  {
   "cell_type": "markdown",
   "id": "36c69caa",
   "metadata": {},
   "source": [
    "## <font color='darkgreen'>Pergunta 1</font>: \n",
    "\n",
    "### -> O consumo médio de largura de banda do mês anterior ao upgrade foi maior que 50?\n",
    "\n",
    "### Neste caso usaremos um Teste t de Uma Amostra.\n",
    "\n",
    "https://docs.scipy.org/doc/scipy/reference/generated/scipy.stats.ttest_1samp.html <br><br>\n",
    "\n",
    "**Quando usar**: O Teste t de Uma Amostra é usado quando queremos comparar a média de uma amostra única com uma média populacional conhecida ou suposta, na ausência de informações sobre o desvio padrão da população.\n",
    "\n",
    "**Por quê usar**: Este teste é útil quando temos uma pequena amostra (tipicamente menos que 30) e não conhecemos o desvio padrão da população. Ele nos ajuda a entender se a média da amostra é significativamente diferente da média populacional proposta.\n",
    "\n",
    "**Motivo da escolha**: O Teste t de Uma Amostra foi escolhido para essa situação específica porque ele é adequado para avaliar a média de uma única amostra de dados contra uma média populacional conhecida ou uma média de referência específica. Neste caso, você quer testar se o consumo médio de largura de banda do mês anterior ao upgrade é significativamente diferente de 50 (um valor especificado).<br><br>\n",
    "\n",
    "<big><u>Hipóteses</u></big>:\n",
    "\n",
    "- **H0**: O consumo médio de largura de banda antes do upgrade foi igual a 50.\n",
    "\n",
    "- **H1**: O consumo médio de largura de banda antes do upgrade foi diferente de 50.\n",
    "\n",
    "Se o valor-p for menor que 0,05 rejeitamos a H0. Caso contrário, falhamos em rejeitar a H0.\n",
    "\n",
    "Se um valor-p relatado a partir de um teste t for menor que 0,05, esse resultado é considerado estatisticamente significativo. Se um valor-p for maior que 0,05, o resultado é insignificante.\n",
    "\n",
    "Um valor-p de um teste t é a probabilidade de que os resultados de seus dados de amostra tenham ocorrido por acaso."
   ]
  },
  {
   "cell_type": "code",
   "execution_count": 10,
   "id": "5842b7be",
   "metadata": {},
   "outputs": [
    {
     "data": {
      "text/plain": [
       "TtestResult(statistic=16.57233752433133, pvalue=2.4963719280931583e-39, df=199)"
      ]
     },
     "execution_count": 10,
     "metadata": {},
     "output_type": "execute_result"
    }
   ],
   "source": [
    "# Executa o teste (popman é a média populacional dada)\n",
    "stats.ttest_1samp(a = df.consumo_medio_mes_anterior_ao_upgrade, popmean = 50)"
   ]
  },
  {
   "cell_type": "markdown",
   "id": "300767a7",
   "metadata": {},
   "source": [
    "#### Interpretando o valor de p\n",
    "- Como o valor-p **2.4963719280931583e-39** é muito pequeno (menor que 0.05), rejeitamos a H0 e consideramos como verdadeira a H1.\n",
    "- O consumo médio de largura de banda antes do upgrade foi diferente de 50.<br><br><br><br>"
   ]
  },
  {
   "cell_type": "markdown",
   "id": "946b77ed",
   "metadata": {},
   "source": [
    "## <font color='darkgreen'>Pergunta 2</font>: \n",
    "\n",
    "### -> O consumo médio de largura de banda do primeiro mês após ao upgrade foi maior que 54?\n",
    "\n",
    "### Neste caso usaremos um Teste t de Uma Amostra. <br>\n",
    "\n",
    "**Motivo da escolha**: O Teste t de Uma Amostra foi escolhido para esta situação específica porque ele permite avaliar se a média do consumo de largura de banda após o upgrade difere de um valor específico, neste caso, 54. A pergunta específica busca determinar se houve um aumento significativo no consumo médio de largura de banda após o upgrade em comparação a um limiar de 54.<br><br>\n",
    "\n",
    "<big><u>Hipóteses</u></big>:\n",
    "\n",
    "- **H0**: O consumo médio de largura de banda no primeiro mês após o upgrade é igual ou menor que 54. Matematicamente, isso pode ser expresso como H0: μ ≤ 54.\n",
    "\n",
    "- **H1**: O consumo médio de largura de banda no primeiro mês após o upgrade é maior que 54. Em termos matemáticos, isso seria H1: μ > 54.\n",
    "\n",
    "Se o valor-p for menor que 0,05 rejeitamos a H0. Caso contrário, falhamos em rejeitar a H0.\n",
    "\n",
    "Se um valor-p relatado a partir de um teste t for menor que 0,05, esse resultado é considerado estatisticamente significativo. Se um valor-p for maior que 0,05, o resultado é insignificante.\n",
    "\n",
    "Um valor-p de um teste t é a probabilidade de que os resultados de seus dados de amostra tenham ocorrido por acaso."
   ]
  },
  {
   "cell_type": "code",
   "execution_count": 11,
   "id": "5e56c237",
   "metadata": {},
   "outputs": [
    {
     "data": {
      "text/plain": [
       "Index(['id_cliente', 'genero', 'canal_atendimento', 'regiao', 'estado_civil',\n",
       "       'segmento', 'consumo_medio_mensal_antes_upgrade',\n",
       "       'consumo_medio_mes_anterior_ao_upgrade',\n",
       "       'consumo_medio_primeiro_mes_apos_upgrade',\n",
       "       'consumo_medio_segundo_mes_apos_upgrade'],\n",
       "      dtype='object')"
      ]
     },
     "execution_count": 11,
     "metadata": {},
     "output_type": "execute_result"
    }
   ],
   "source": [
    "# Verifica nome das colunas\n",
    "df.columns"
   ]
  },
  {
   "cell_type": "code",
   "execution_count": 12,
   "id": "f5e6828b",
   "metadata": {},
   "outputs": [
    {
     "data": {
      "text/plain": [
       "TtestResult(statistic=-1.827711021452149, pvalue=0.06909045807247792, df=199)"
      ]
     },
     "execution_count": 12,
     "metadata": {},
     "output_type": "execute_result"
    }
   ],
   "source": [
    "# Executa o teste (popman é a média populacional dada)\n",
    "stats.ttest_1samp(a = df.consumo_medio_primeiro_mes_apos_upgrade, popmean = 54)"
   ]
  },
  {
   "cell_type": "markdown",
   "id": "62112c69",
   "metadata": {},
   "source": [
    "#### Interpretando o valor de p\n",
    "- Como o valor-p **0.06909045807247792** é maior que 0.05, falhamos em rejeitar a H0 e consideramos como falsa a H1.\n",
    "- Isso significa que não temos evidências suficientes para afirmar que o consumo médio de largura de banda no primeiro mês após o upgrade é maior que 54. Em outras palavras, o aumento observado no consumo de largura de banda não é estatisticamente significativo ao nível de 5% de significância.<br><br><br><br>"
   ]
  },
  {
   "cell_type": "markdown",
   "id": "fd5d14b4",
   "metadata": {},
   "source": [
    "## <font color='darkgreen'>Pergunta 3</font>:  \n",
    "\n",
    "### -> Houve diferença de consumo de largura de banda antes e depois do upgrade, considerando o primeiro mês após o upgrade?\n",
    "\n",
    "### Neste caso usaremos: Teste t de Duas Amostras (Pareado).\n",
    "\n",
    "https://docs.scipy.org/doc/scipy/reference/generated/scipy.stats.ttest_rel.html\n",
    "\n",
    "Este teste é usado quando temos duas amostras que são relacionadas ou dependentes. Este é um teste para a hipótese nula de que duas amostras relacionadas têm valores médios (esperados) idênticos. <br><br>\n",
    "\n",
    "**Quando usar**: Este teste é utilizado quando as medições são feitas em pares correlacionados, ou seja, quando duas amostras estão relacionadas de alguma maneira (antes e depois, por exemplo).\n",
    "\n",
    "**Por quê usar**: O Teste t Pareado é útil para reduzir a variabilidade entre as amostras que poderia ser causada por variáveis não controladas, focando na diferença dentro dos pares. Isso é especialmente útil em estudos longitudinais ou estudos que envolvem medições repetidas.\n",
    "\n",
    "**Motivo da escolha**: O Teste t Pareado foi escolhido porque é especificamente projetado para comparar duas amostras relacionadas, que neste caso são as medidas de consumo de largura de banda antes e depois do upgrade para os mesmos clientes. Esse teste é ideal para avaliar a diferença significativa causada pelo upgrade, controlando as variáveis inerentes aos indivíduos que não mudam com o tempo. Ele fornece uma análise direta e eficaz da mudança induzida pelo upgrade ao focar nas diferenças dentro dos mesmos sujeitos, aumentando assim a precisão e a relevância dos resultados estatísticos para a pergunta de pesquisa.<br><br>\n",
    "\n",
    "<big><u>Hipóteses</u></big>:\n",
    "\n",
    "- H0: O consumo antes do upgrade foi igual ao consumo após o upgrade (as médias são iguais).\n",
    "- H1: O consumo antes do upgrade foi diferente do consumo após o upgrade (as médias não são iguais).\n",
    "\n",
    "Se o valor-p for menor que 0,05 rejeitamos a H0. Caso contrário, falhamos em rejeitar a H0."
   ]
  },
  {
   "cell_type": "code",
   "execution_count": 14,
   "id": "36f11065",
   "metadata": {},
   "outputs": [
    {
     "data": {
      "text/plain": [
       "Index(['id_cliente', 'genero', 'canal_atendimento', 'regiao', 'estado_civil',\n",
       "       'segmento', 'consumo_medio_mensal_antes_upgrade',\n",
       "       'consumo_medio_mes_anterior_ao_upgrade',\n",
       "       'consumo_medio_primeiro_mes_apos_upgrade',\n",
       "       'consumo_medio_segundo_mes_apos_upgrade'],\n",
       "      dtype='object')"
      ]
     },
     "execution_count": 14,
     "metadata": {},
     "output_type": "execute_result"
    }
   ],
   "source": [
    "# Verificando Nome das Colunas\n",
    "df.columns"
   ]
  },
  {
   "cell_type": "code",
   "execution_count": 15,
   "id": "1c0079a1",
   "metadata": {},
   "outputs": [
    {
     "data": {
      "text/plain": [
       "TtestResult(statistic=-0.8673065458794775, pvalue=0.3868186820914985, df=199)"
      ]
     },
     "execution_count": 15,
     "metadata": {},
     "output_type": "execute_result"
    }
   ],
   "source": [
    "# Executa o teste\n",
    "stats.ttest_rel(a = df.consumo_medio_mensal_antes_upgrade, b = df.consumo_medio_primeiro_mes_apos_upgrade)"
   ]
  },
  {
   "cell_type": "markdown",
   "id": "859ce14e",
   "metadata": {},
   "source": [
    "#### Interpretando o valor de p\n",
    "- Como o valor-p **0.3868186820914985** é maior que 0,05, falhamos em rejeitar a hipótese nula. Logo, o consumo médio no primeiro mês após o upgrade foi similar ao consumo médio antes do upgrade.\n",
    "\n",
    "<br><br><br><br>"
   ]
  },
  {
   "cell_type": "markdown",
   "id": "a7e91f8b",
   "metadata": {},
   "source": [
    "## <font color='darkgreen'>Pergunta 4</font>:\n",
    "\n",
    "### -> O gênero do cliente influenciou o consumo de largura de banda no primeiro mês após o upgrade?\n",
    "\n",
    "### Neste caso usaremos: Teste t de Duas Amostras Independentes.\n",
    "\n",
    "https://docs.scipy.org/doc/scipy/reference/generated/scipy.stats.ttest_ind.html\n",
    "\n",
    "Calculamos o Teste t para as médias de duas amostras independentes. Este é um teste para a hipótese nula de que 2 amostras independentes têm valores médios (esperados) idênticos. Este teste assume que as populações têm variâncias idênticas por padrão. <br><br>\n",
    "\n",
    "**Quando usar**: Este teste é aplicado quando queremos comparar as médias de duas amostras independentes de duas populações.\n",
    "\n",
    "**Por quê usar**: Ele é útil quando duas amostras são coletadas de forma independente uma da outra e queremos avaliar se existe uma diferença estatisticamente significativa entre suas médias.\n",
    "\n",
    "**Motivo da escolha**: O Teste t de Duas Amostras Independentes foi escolhido para analisar se há diferenças no consumo de largura de banda entre gêneros após um upgrade, porque permite comparar diretamente as médias de dois grupos independentes formados com base no gênero dos clientes. Este teste é particularmente adequado aqui, pois cada grupo (masculino e feminino) é tratado como uma amostra separada, sem dependência ou relação direta entre as observações dos dois grupos. Assim, o teste oferece um meio eficaz de verificar se as diferenças observadas no consumo médio de largura de banda são estatisticamente significativas entre homens e mulheres, ajudando a determinar se o upgrade teve impactos diferenciados baseados no gênero. <br><br>\n",
    "\n",
    "<big><u>Hipóteses</u></big>:\n",
    "\n",
    "- H0: Consumo de clientes do sexo masculino foi igual ao consumo de clientes do sexo feminino no primeiro mês após o upgrade (consumo médio foi igual entre os gêneros).\n",
    "\n",
    "- H1: Consumo de clientes do sexo masculino não foi igual ao consumo de clientes do sexo feminino no primeiro mês após o upgrade (consumo médio não foi igual entre os gêneros).\n",
    "\n",
    "Se o valor-p for menor que 0,05 rejeitamos a H0. Caso contrário, falhamos em rejeitar a H0."
   ]
  },
  {
   "cell_type": "code",
   "execution_count": 13,
   "id": "f8e42bea",
   "metadata": {},
   "outputs": [
    {
     "data": {
      "text/plain": [
       "Index(['id_cliente', 'genero', 'canal_atendimento', 'regiao', 'estado_civil',\n",
       "       'segmento', 'consumo_medio_mensal_antes_upgrade',\n",
       "       'consumo_medio_mes_anterior_ao_upgrade',\n",
       "       'consumo_medio_primeiro_mes_apos_upgrade',\n",
       "       'consumo_medio_segundo_mes_apos_upgrade'],\n",
       "      dtype='object')"
      ]
     },
     "execution_count": 13,
     "metadata": {},
     "output_type": "execute_result"
    }
   ],
   "source": [
    "# Verificando Nome das Colunas\n",
    "df.columns"
   ]
  },
  {
   "cell_type": "code",
   "execution_count": 16,
   "id": "df08cfdb",
   "metadata": {},
   "outputs": [],
   "source": [
    "# Separando as amostras em grupos\n",
    "consumo_cliente_masculino = df.consumo_medio_primeiro_mes_apos_upgrade[df.genero == 0]\n",
    "consumo_cliente_feminino = df.consumo_medio_primeiro_mes_apos_upgrade[df.genero == 1]"
   ]
  },
  {
   "cell_type": "code",
   "execution_count": 17,
   "id": "35afdb30",
   "metadata": {},
   "outputs": [
    {
     "name": "stdout",
     "output_type": "stream",
     "text": [
      "1     59\n",
      "92    62\n",
      "93    44\n",
      "94    44\n",
      "95    62\n",
      "Name: consumo_medio_primeiro_mes_apos_upgrade, dtype: int64\n",
      "0    52\n",
      "2    33\n",
      "3    44\n",
      "4    52\n",
      "5    52\n",
      "Name: consumo_medio_primeiro_mes_apos_upgrade, dtype: int64\n"
     ]
    }
   ],
   "source": [
    "# Verificando primeiros resultados de cada grupo\n",
    "\n",
    "print(consumo_cliente_feminino.head())\n",
    "print(consumo_cliente_masculino.head())"
   ]
  },
  {
   "cell_type": "code",
   "execution_count": 18,
   "id": "707c3f5d",
   "metadata": {},
   "outputs": [
    {
     "name": "stdout",
     "output_type": "stream",
     "text": [
      "54.99082568807339\n",
      "50.120879120879124\n"
     ]
    }
   ],
   "source": [
    "# Verificando a Média de cada grupo\n",
    "\n",
    "print(consumo_cliente_feminino.mean())\n",
    "print(consumo_cliente_masculino.mean())"
   ]
  },
  {
   "cell_type": "code",
   "execution_count": 19,
   "id": "afbd907a",
   "metadata": {},
   "outputs": [
    {
     "name": "stdout",
     "output_type": "stream",
     "text": [
      "66.15732246007477\n",
      "106.19633699633701\n"
     ]
    }
   ],
   "source": [
    "# Verificando a Variância de cada grupo\n",
    "\n",
    "print(consumo_cliente_feminino.var())\n",
    "print(consumo_cliente_masculino.var())"
   ]
  },
  {
   "cell_type": "code",
   "execution_count": 20,
   "id": "b04543b0",
   "metadata": {},
   "outputs": [
    {
     "data": {
      "text/plain": [
       "TtestResult(statistic=-3.656408047887528, pvalue=0.000340884935942662, df=169.7073800375754)"
      ]
     },
     "execution_count": 20,
     "metadata": {},
     "output_type": "execute_result"
    }
   ],
   "source": [
    "# Executa o teste\n",
    "stats.ttest_ind(a = consumo_cliente_masculino, b = consumo_cliente_feminino, equal_var = False)"
   ]
  },
  {
   "cell_type": "markdown",
   "id": "3865a83c",
   "metadata": {},
   "source": [
    "#### Interpretando o valor de p\n",
    "- Como o valor-p **0.000340884935942662** é menor que 0,05, rejeitamos a H0. Assim, concluímos que houve diferença entre o consumo masculino e o consumo feminino de largura de banda no primeiro mês após o upgrade.\n",
    "\n",
    "<br><br><br><br>"
   ]
  },
  {
   "cell_type": "markdown",
   "id": "9d45494b",
   "metadata": {},
   "source": [
    "## <font color='darkgreen'>Pergunta 5</font>: \n",
    "\n",
    "### -> Há alguma relação entre região e segmento do cliente?\n",
    "\n",
    "### Neste caso usaremos: Teste do Qui-Quadrado.\n",
    "\n",
    "https://docs.scipy.org/doc/scipy/reference/generated/scipy.stats.chi2_contingency.html\n",
    "\n",
    "Teste qui-quadrado de independência de variáveis é usado em uma tabela de contingência. A função calcula a estatística qui-quadrado e o valor-p para o teste de hipótese de independência das frequências observadas na tabela de contingência. As frequências esperadas são calculadas com base nas somas marginais sob o pressuposto de independência.<br><br>\n",
    "\n",
    "**Quando usar**: O teste do Qui-Quadrado é usado para avaliar se há uma associação significativa entre duas variáveis categóricas.\n",
    "\n",
    "**Por quê usar**: É útil para determinar se as diferenças nas contagens ou frequências observadas em categorias são devidas ao acaso ou a uma associação real entre as variáveis.\n",
    "\n",
    "**Motivo da escolha**: O Teste do Qui-Quadrado foi escolhido porque é o método padrão para investigar a independência entre duas variáveis categóricas. Neste caso, as variáveis são 'região' e 'segmento' do cliente. Este teste é ideal para determinar se as distribuições dos segmentos variam significativamente entre diferentes regiões, ou se elas são independentes uma da outra. Utilizando este teste, podemos validar estatisticamente se há ou não uma associação entre a localização geográfica dos clientes e seus segmentos de mercado, o que é crucial para entender a dinâmica do mercado e para o planejamento estratégico de marketing e vendas. <br><br>\n",
    "\n",
    "<big><u>Hipóteses</u></big>:\n",
    "\n",
    "- H0: Não há relacionamento entre região e segmento.\n",
    "- H1: Há relacionamento entre região e segmento.\n",
    "\n",
    "Se o valor-p for menor que 0,05 rejeitamos a H0. Caso contrário, falhamos em rejeitar a H0."
   ]
  },
  {
   "cell_type": "code",
   "execution_count": null,
   "id": "8fa5889c",
   "metadata": {},
   "outputs": [],
   "source": []
  },
  {
   "cell_type": "code",
   "execution_count": null,
   "id": "be4da130",
   "metadata": {},
   "outputs": [],
   "source": []
  },
  {
   "cell_type": "code",
   "execution_count": null,
   "id": "eb2a46db",
   "metadata": {},
   "outputs": [],
   "source": []
  },
  {
   "cell_type": "markdown",
   "id": "3cffd02e",
   "metadata": {},
   "source": [
    "#### Interpretando o valor de p\n",
    "- Como o valor-p \n",
    "\n",
    "<br><br><br><br>"
   ]
  },
  {
   "cell_type": "markdown",
   "id": "d4579333",
   "metadata": {},
   "source": [
    "## <font color='darkgreen'>Pergunta 6</font>: \n",
    "\n",
    "### -> O uso do cartão melhorou significativamente em relação ao ano passado, que era 50?\n",
    "\n",
    "### Neste caso usaremos:  <br>\n",
    "\n",
    "**Quando usar**: \n",
    "\n",
    "**Por quê usar**:\n",
    "\n",
    "**Motivo da escolha**:  <br><br>\n",
    "\n",
    "<big><u>Hipóteses</u></big>:\n",
    "\n",
    "- H0: \n",
    "- H1: \n",
    "\n",
    "Se o valor-p for menor que 0,05 rejeitamos a H0. Caso contrário, falhamos em rejeitar a H0."
   ]
  },
  {
   "cell_type": "code",
   "execution_count": null,
   "id": "6012d527",
   "metadata": {},
   "outputs": [],
   "source": []
  },
  {
   "cell_type": "code",
   "execution_count": null,
   "id": "cd36205a",
   "metadata": {},
   "outputs": [],
   "source": []
  },
  {
   "cell_type": "code",
   "execution_count": null,
   "id": "42e01e36",
   "metadata": {},
   "outputs": [],
   "source": []
  },
  {
   "cell_type": "markdown",
   "id": "51ff2c6c",
   "metadata": {},
   "source": [
    "#### Interpretando o valor de p\n",
    "- Como o valor-p \n",
    "\n",
    "<br><br><br><br>"
   ]
  },
  {
   "cell_type": "markdown",
   "id": "7cc8256e",
   "metadata": {},
   "source": [
    "## <font color='darkgreen'>Pergunta 7</font>: \n",
    "\n",
    "### -> A última campanha foi bem-sucedida em termos de uso do cartão de crédito?\n",
    "\n",
    "### Neste caso usaremos:   <br>\n",
    "\n",
    "**Quando usar**: \n",
    "\n",
    "**Por quê usar**:\n",
    "\n",
    "**Motivo da escolha**:  <br><br>\n",
    "\n",
    "<big><u>Hipóteses</u></big>:\n",
    "\n",
    "- H0: \n",
    "- H1: \n",
    "\n",
    "Se o valor-p for menor que 0,05 rejeitamos a H0. Caso contrário, falhamos em rejeitar a H0."
   ]
  },
  {
   "cell_type": "code",
   "execution_count": null,
   "id": "f3676f82",
   "metadata": {},
   "outputs": [],
   "source": []
  },
  {
   "cell_type": "code",
   "execution_count": null,
   "id": "6a1c8317",
   "metadata": {},
   "outputs": [],
   "source": []
  },
  {
   "cell_type": "code",
   "execution_count": null,
   "id": "125b5664",
   "metadata": {},
   "outputs": [],
   "source": []
  },
  {
   "cell_type": "markdown",
   "id": "abd472d0",
   "metadata": {},
   "source": [
    "#### Interpretando o valor de p\n",
    "- Como o valor-p \n",
    "\n",
    "<br><br><br><br>"
   ]
  },
  {
   "cell_type": "markdown",
   "id": "6fba52b3",
   "metadata": {},
   "source": [
    "## <font color='darkgreen'>Pergunta 8</font>: \n",
    "\n",
    "### -> Existe diferença de uso do cartão de crédito entre homens e mulheres?\n",
    "\n",
    "### Neste caso usaremos:   <br>\n",
    "\n",
    "**Quando usar**: \n",
    "\n",
    "**Por quê usar**:\n",
    "\n",
    "**Motivo da escolha**:  <br><br>\n",
    "\n",
    "<big><u>Hipóteses</u></big>:\n",
    "\n",
    "- H0: \n",
    "- H1: \n",
    "\n",
    "Se o valor-p for menor que 0,05 rejeitamos a H0. Caso contrário, falhamos em rejeitar a H0."
   ]
  },
  {
   "cell_type": "code",
   "execution_count": null,
   "id": "cd64fedc",
   "metadata": {},
   "outputs": [],
   "source": []
  },
  {
   "cell_type": "code",
   "execution_count": null,
   "id": "d62b1a95",
   "metadata": {},
   "outputs": [],
   "source": []
  },
  {
   "cell_type": "code",
   "execution_count": null,
   "id": "82c258ec",
   "metadata": {},
   "outputs": [],
   "source": []
  },
  {
   "cell_type": "markdown",
   "id": "bc33c534",
   "metadata": {},
   "source": [
    "#### Interpretando o valor de p\n",
    "- Como o valor-p \n",
    "\n",
    "<br><br><br><br>"
   ]
  },
  {
   "cell_type": "markdown",
   "id": "65fd7736",
   "metadata": {},
   "source": [
    "## <font color='darkgreen'>Pergunta 9</font>: \n",
    "\n",
    "### -> Existe diferença entre os segmentos de clientes em termos de uso do cartão de crédito?\n",
    "\n",
    "### Neste caso usaremos:   <br>\n",
    "\n",
    "**Quando usar**: \n",
    "\n",
    "**Por quê usar**:\n",
    "\n",
    "**Motivo da escolha**:  <br><br>\n",
    "\n",
    "<big><u>Hipóteses</u></big>:\n",
    "\n",
    "- H0: \n",
    "- H1: \n",
    "\n",
    "Se o valor-p for menor que 0,05 rejeitamos a H0. Caso contrário, falhamos em rejeitar a H0."
   ]
  },
  {
   "cell_type": "code",
   "execution_count": null,
   "id": "71da516f",
   "metadata": {},
   "outputs": [],
   "source": []
  },
  {
   "cell_type": "code",
   "execution_count": null,
   "id": "186e2430",
   "metadata": {},
   "outputs": [],
   "source": []
  },
  {
   "cell_type": "code",
   "execution_count": null,
   "id": "87680aea",
   "metadata": {},
   "outputs": [],
   "source": []
  },
  {
   "cell_type": "markdown",
   "id": "0b34010d",
   "metadata": {},
   "source": [
    "#### Interpretando o valor de p\n",
    "- Como o valor-p \n",
    "\n",
    "<br><br><br><br>"
   ]
  },
  {
   "cell_type": "markdown",
   "id": "1ef6b2de",
   "metadata": {},
   "source": [
    "## <font color='darkgreen'>Pergunta 10</font>: \n",
    "\n",
    "### -> Existe uma relação entre o uso do cartão no último mês e o uso pré-campanha?\n",
    "\n",
    "### Neste caso usaremos:   <br>\n",
    "\n",
    "**Quando usar**: \n",
    "\n",
    "**Por quê usar**:\n",
    "\n",
    "**Motivo da escolha**:  <br><br>\n",
    "\n",
    "<big><u>Hipóteses</u></big>:\n",
    "\n",
    "- H0: \n",
    "- H1: \n",
    "\n",
    "Se o valor-p for menor que 0,05 rejeitamos a H0. Caso contrário, falhamos em rejeitar a H0."
   ]
  },
  {
   "cell_type": "code",
   "execution_count": null,
   "id": "24e356dc",
   "metadata": {},
   "outputs": [],
   "source": []
  },
  {
   "cell_type": "code",
   "execution_count": null,
   "id": "ea1e5b0c",
   "metadata": {},
   "outputs": [],
   "source": []
  },
  {
   "cell_type": "markdown",
   "id": "fc898609",
   "metadata": {},
   "source": [
    "#### Interpretando o valor de p\n",
    "- Como o valor-p \n",
    "\n",
    "<br><br><br><br>"
   ]
  },
  {
   "cell_type": "markdown",
   "id": "872a9bf2",
   "metadata": {},
   "source": [
    "<br><br>\n",
    "\n",
    "# Sobres os <u>Testes</u><br>\n",
    "\n",
    "### 1. Teste t de Uma Amostra\n",
    "\n",
    "- **Quando usar**: Este teste é utilizado quando queremos comparar a média de uma amostra com um valor conhecido ou hipotético.<br><br>\n",
    "- **Exemplo**: Um fabricante de bolas de tênis afirma que suas bolas têm uma pressão interna de 2 psi. Para verificar essa afirmação, um técnico mede a pressão de uma amostra de 30 bolas. O Teste t de Uma Amostra pode ser usado para determinar se a média da pressão nas bolas da amostra é significativamente diferente de 2 psi.<br><br><br>\n",
    "\n",
    "### 2. Teste t de Duas Amostras (Pareado)\n",
    "\n",
    "- **Quando usar**: Usado quando as medições são feitas em pares correlacionados, geralmente em situações de \"antes e depois\" ou onde os sujeitos são os mesmos sob duas condições diferentes.<br><br>\n",
    "- **Exemplo**: Um grupo de pacientes recebe um medicamento para reduzir a pressão arterial e suas pressões são medidas antes e depois da medicação. O Teste t Pareado pode ser usado para determinar se houve uma mudança significativa na pressão arterial média antes e depois da administração do medicamento.<br><br><br>\n",
    "\n",
    "### 3. Teste t de Duas Amostras Independentes\n",
    "\n",
    "- **Quando usar**: Este teste é apropriado quando duas amostras são independentes uma da outra e queremos comparar suas médias.<br><br>\n",
    "- **Exemplo**: Dois grupos de estudantes, um usando um novo método de ensino e outro usando o método tradicional, são testados para desempenho acadêmico. O Teste t de Duas Amostras Independentes pode ser usado para ver se há uma diferença significativa nas pontuações médias entre os dois grupos.<br><br>\n",
    "\n",
    "### 4. Teste do Qui-Quadrado\n",
    "\n",
    "- **Quando usar**: Este teste é usado para determinar se há uma associação significativa entre duas variáveis categóricas.<br><br>\n",
    "- **Exemplo**: Um pesquisador quer saber se há uma relação entre gênero (masculino e feminino) e preferência por três diferentes marcas de refrigerante. A análise Qui-Quadrado pode ser usada para ver se a preferência por marca é independente do gênero dos consumidores.<br><br>\n",
    "\n",
    "### 5. Teste t de Welch\n",
    "- **Quando usar**: Similar ao teste t de duas amostras, mas não assume igualdade de variâncias entre as duas amostras. É útil quando as amostras podem ter variâncias diferentes.<br><br>\n",
    "- **Exemplo**: Dois grupos de estudantes, um de uma escola rural e outro de uma escola urbana, fazem um teste padronizado. Devido à possibilidade de variâncias diferentes nas pontuações devido a contextos educacionais distintos, o Teste t de Welch pode ser usado para comparar as médias das pontuações de ambos os grupos.<br><br>\n",
    "\n",
    "### 6. Teste ANOVA (Análise de Variância)\n",
    "\n",
    "- **Quando usar**: O teste ANOVA é usado para comparar as médias de três ou mais grupos independentes para determinar se pelo menos um dos grupos difere significativamente dos outros. É especialmente útil para testar a igualdade das médias em um design onde existem múltiplas categorias ou níveis de uma variável independente.\n",
    "- **Exemplo**: Suponha que um nutricionista queira avaliar a eficácia de três diferentes dietas na perda de peso. Um grupo de participantes é dividido aleatoriamente em três grupos, cada um seguindo uma das dietas. Depois de três meses, o peso perdido por cada participante é registrado. O teste ANOVA pode ser usado para analisar se há diferenças significativas na média de peso perdido entre os três grupos de dietas. Se o teste ANOVA mostrar uma diferença estatisticamente significativa, testes post-hoc (como o teste de Tukey) podem ser realizados para determinar quais grupos específicos diferem entre si."
   ]
  },
  {
   "cell_type": "markdown",
   "id": "cc7f5124",
   "metadata": {},
   "source": [
    "<br><br><br>\n",
    "# Fim"
   ]
  }
 ],
 "metadata": {
  "kernelspec": {
   "display_name": "Python 3 (ipykernel)",
   "language": "python",
   "name": "python3"
  },
  "language_info": {
   "codemirror_mode": {
    "name": "ipython",
    "version": 3
   },
   "file_extension": ".py",
   "mimetype": "text/x-python",
   "name": "python",
   "nbconvert_exporter": "python",
   "pygments_lexer": "ipython3",
   "version": "3.9.7"
  }
 },
 "nbformat": 4,
 "nbformat_minor": 5
}
