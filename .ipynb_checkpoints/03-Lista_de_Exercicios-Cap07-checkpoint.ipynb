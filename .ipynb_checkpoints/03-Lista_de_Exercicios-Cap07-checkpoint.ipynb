{
 "cells": [
  {
   "cell_type": "markdown",
   "id": "cbc7e7e2",
   "metadata": {},
   "source": [
    "# <font color='blue'>Data Science Academy</font>\n",
    "# <font color='blue'>Big Data Real-Time Analytics com Python e Spark</font>\n",
    "\n",
    "## <font color='blue'>Exercícios do Capítulo 7</font>"
   ]
  },
  {
   "cell_type": "markdown",
   "id": "289211b6",
   "metadata": {},
   "source": [
    "O objetivo destes exercícios é desenvolver suas habilidades de programação ao mesmo tempo que pratica alguns dos principais conceitos de Estatística Descritiva. \n",
    "\n",
    "Uma parte do código está preenchida para você. A solução será apresentada no começo do próximo capítulo."
   ]
  },
  {
   "cell_type": "code",
   "execution_count": 1,
   "id": "95bbb2fa",
   "metadata": {},
   "outputs": [
    {
     "name": "stdout",
     "output_type": "stream",
     "text": [
      "Versão da Linguagem Python Usada Neste Jupyter Notebook: 3.9.7\n"
     ]
    }
   ],
   "source": [
    "# Versão da Linguagem Python\n",
    "from platform import python_version\n",
    "print('Versão da Linguagem Python Usada Neste Jupyter Notebook:', python_version())"
   ]
  },
  {
   "cell_type": "code",
   "execution_count": 2,
   "id": "78658596",
   "metadata": {},
   "outputs": [],
   "source": [
    "# Para atualizar um pacote, execute o comando abaixo no terminal ou prompt de comando:\n",
    "# pip install -U nome_pacote\n",
    "\n",
    "# Para instalar a versão exata de um pacote, execute o comando abaixo no terminal ou prompt de comando:\n",
    "#!pip install nome_pacote==versão_desejada\n",
    "\n",
    "# Depois de instalar ou atualizar o pacote, reinicie o jupyter notebook.\n",
    "\n",
    "# Instala o pacote watermark. \n",
    "# Esse pacote é usado para gravar as versões de outros pacotes usados neste jupyter notebook.\n",
    "!pip install -q -U watermark"
   ]
  },
  {
   "cell_type": "code",
   "execution_count": 14,
   "id": "6dbc4e4f",
   "metadata": {},
   "outputs": [],
   "source": [
    "# Imports\n",
    "import pandas as pd\n",
    "import numpy as np"
   ]
  },
  {
   "cell_type": "markdown",
   "id": "379088a1",
   "metadata": {},
   "source": [
    "### Exercício 1 - Crie uma função Python usando somente operações matemáticas (não use outras funções ou métodos) que receba uma lista de números como argumento e devolva como resultado a média da lista de números."
   ]
  },
  {
   "cell_type": "code",
   "execution_count": 4,
   "id": "c911d2f2",
   "metadata": {},
   "outputs": [
    {
     "data": {
      "text/plain": [
       "81.5"
      ]
     },
     "execution_count": 4,
     "metadata": {},
     "output_type": "execute_result"
    }
   ],
   "source": [
    "# Solução 1 (usando a lista e escrevendo a fórmula)\n",
    "\n",
    "# Lista de números\n",
    "lista_numeros = [78, 80, 79, 80, 87, 85]\n",
    "\n",
    "# Função\n",
    "def calcula_media(lista):     \n",
    "    \n",
    "    # Coloque aqui sua solução\n",
    "    return sum(lista) / len(lista)\n",
    "\n",
    "\n",
    "# Chamada à função\n",
    "calcula_media(lista_numeros)"
   ]
  },
  {
   "cell_type": "code",
   "execution_count": 15,
   "id": "d7930879",
   "metadata": {},
   "outputs": [
    {
     "data": {
      "text/plain": [
       "81.5"
      ]
     },
     "execution_count": 15,
     "metadata": {},
     "output_type": "execute_result"
    }
   ],
   "source": [
    "# Solução 2 (usando a lista e numpy)\n",
    "\n",
    "# Lista de números\n",
    "lista_numeros = [78, 80, 79, 80, 87, 85]\n",
    "\n",
    "# Função\n",
    "def calcula_media(lista):     \n",
    "    \n",
    "    # Coloque aqui sua solução\n",
    "    return np.mean(lista)\n",
    "\n",
    "\n",
    "# Chamada à função\n",
    "calcula_media(lista_numeros)"
   ]
  },
  {
   "cell_type": "code",
   "execution_count": 5,
   "id": "52aae3ad",
   "metadata": {},
   "outputs": [
    {
     "data": {
      "text/plain": [
       "81.5"
      ]
     },
     "execution_count": 5,
     "metadata": {},
     "output_type": "execute_result"
    }
   ],
   "source": [
    "# Solução 3 (transformando em objeto pandas)\n",
    "\n",
    "# Lista de números\n",
    "lista_numeros = [78, 80, 79, 80, 87, 85]\n",
    "\n",
    "df = pd.DataFrame(lista_numeros, columns = ['Numeros'])\n",
    "\n",
    "# Função\n",
    "def calcula_media(lista):     \n",
    "    \n",
    "    # Coloque aqui sua solução\n",
    "    return lista['Numeros'].mean()\n",
    "    \n",
    "    \n",
    "# Chamada à função\n",
    "calcula_media(df)"
   ]
  },
  {
   "cell_type": "markdown",
   "id": "3a82d0d7",
   "metadata": {},
   "source": [
    "### <br><br><br>Exercício 2 - Crie uma função Python que receba uma lista como argumento e retorne a mediana. A função deve retornar a mediana para lista com qualquer número de elementos. Use métodos auxiliares se necessário."
   ]
  },
  {
   "cell_type": "code",
   "execution_count": 6,
   "id": "e309e500",
   "metadata": {},
   "outputs": [
    {
     "name": "stdout",
     "output_type": "stream",
     "text": [
      "A mediana da lista 1 é: 80.5\n",
      "A mediana da lista 2 é: 80\n"
     ]
    }
   ],
   "source": [
    "# Solução 1 (usando a lista e escrevendo a fórmula)\n",
    "\n",
    "# Listas de números\n",
    "lista_numeros_1 = [78, 80, 79, 81, 87, 85]\n",
    "lista_numeros_2 = [78, 80, 79, 87, 85]\n",
    "\n",
    "# Função\n",
    "def calcula_mediana(lista):\n",
    "    \n",
    "    # Coloque aqui sua solução\n",
    "    \n",
    "    # Ordenando a Lista\n",
    "    lista_ordenada = sorted(lista)\n",
    "    \n",
    "    # Calculando o índice do elemento do meio\n",
    "    meio = len(lista_ordenada) // 2\n",
    "    \n",
    "    # Se a lista tiver um número par de elementos, calcular a média dos dois valores do meio\n",
    "    if len(lista_ordenada) % 2 == 0:\n",
    "        mediana = (lista_ordenada[meio - 1] + lista_ordenada[meio]) / 2\n",
    "    \n",
    "    # Se a lista tiver um número ímpar de elementos, a mediana é o valor do meio   \n",
    "    else:\n",
    "        mediana = lista_ordenada[meio]\n",
    "    \n",
    "    return mediana\n",
    "\n",
    "\n",
    "# Chamada à função\n",
    "resultado1 = calcula_mediana(lista_numeros_1)\n",
    "resultado2 = calcula_mediana(lista_numeros_2)\n",
    "\n",
    "print(\"A mediana da lista 1 é:\", resultado1)\n",
    "print(\"A mediana da lista 2 é:\", resultado2)"
   ]
  },
  {
   "cell_type": "code",
   "execution_count": 16,
   "id": "dd3b9738",
   "metadata": {},
   "outputs": [
    {
     "name": "stdout",
     "output_type": "stream",
     "text": [
      "A mediana da lista 1 é: 80.5\n",
      "A mediana da lista 2 é: 80.0\n"
     ]
    }
   ],
   "source": [
    "# Solução 2 (usando a lista e numpy)\n",
    "\n",
    "# Listas de números\n",
    "lista_numeros_1 = [78, 80, 79, 81, 87, 85]\n",
    "lista_numeros_2 = [78, 80, 79, 87, 85]\n",
    "\n",
    "# Função\n",
    "def calcula_mediana(lista):\n",
    "    \n",
    "    # Coloque aqui sua solução\n",
    "    return np.median(lista)\n",
    "\n",
    "\n",
    "# Chamada à função\n",
    "resultado1 = calcula_mediana(lista_numeros_1)\n",
    "resultado2 = calcula_mediana(lista_numeros_2)\n",
    "\n",
    "print(\"A mediana da lista 1 é:\", resultado1)\n",
    "print(\"A mediana da lista 2 é:\", resultado2)"
   ]
  },
  {
   "cell_type": "code",
   "execution_count": 7,
   "id": "db494bdf",
   "metadata": {},
   "outputs": [
    {
     "name": "stdout",
     "output_type": "stream",
     "text": [
      "A mediana do obj df1 é: 80.5\n",
      "A mediana do obj df2 é: 80.0\n"
     ]
    }
   ],
   "source": [
    "# Solução 3 (transformando em objeto pandas)\n",
    "\n",
    "# Listas de números\n",
    "lista_numeros_1 = [78, 80, 79, 81, 87, 85]\n",
    "lista_numeros_2 = [78, 80, 79, 87, 85]\n",
    "\n",
    "df1 = pd.DataFrame(lista_numeros_1, columns = ['Numeros'])\n",
    "df2 = pd.DataFrame(lista_numeros_2, columns = ['Numeros'])\n",
    "\n",
    "# Função\n",
    "def calcula_mediana(obj):     \n",
    "    \n",
    "    # Coloque aqui sua solução\n",
    "    return obj['Numeros'].median()\n",
    "    \n",
    "\n",
    "# Chamada à função\n",
    "resultado1 = calcula_mediana(df1)\n",
    "resultado2 = calcula_mediana(df2)\n",
    "\n",
    "print(\"A mediana do obj df1 é:\", resultado1)\n",
    "print(\"A mediana do obj df2 é:\", resultado2)"
   ]
  },
  {
   "cell_type": "markdown",
   "id": "17a0fa81",
   "metadata": {},
   "source": [
    "### <br><br><br>Exercício 3 - Considerando a lista de elementos abaixo que representa o número de produtos vendidos por dia em uma empresa, crie uma função Python que receba a lista e retorne a variância. Use métodos auxiliares se necessário.\n",
    "\n",
    "Fórmula da variância:"
   ]
  },
  {
   "cell_type": "markdown",
   "id": "13b7e500",
   "metadata": {},
   "source": [
    "![title](imagens/var.png)"
   ]
  },
  {
   "cell_type": "code",
   "execution_count": 8,
   "id": "327d146e",
   "metadata": {},
   "outputs": [
    {
     "name": "stdout",
     "output_type": "stream",
     "text": [
      "A variância da lista é: 5.09\n"
     ]
    }
   ],
   "source": [
    "# Solução 1 (usando a lista e escrevendo a fórmula)\n",
    "\n",
    "# Lista de números\n",
    "unidades_vendidas = [5, 4, 3, 4, 8, 2, 5, 2, 5, 8, 10, 8, 7, 8, 7, 9, 10, 5, 7, 5, 7, 5, 4, 3, 5, 8, 4]\n",
    "\n",
    "# Função \n",
    "def calcula_variancia(data):\n",
    "    \n",
    "    # Coloque aqui sua solução\n",
    "    \n",
    "    # Calcula a média dos valores na lista\n",
    "    media = sum(data) / len(data)\n",
    "    \n",
    "    # Calcula a soma dos quadrados das diferenças entre cada valor e a média\n",
    "    soma_quadrados_diferencas = sum((x - media) ** 2 for x in data)\n",
    "    \n",
    "    # Calcula a variância\n",
    "    variancia = soma_quadrados_diferencas / len(data)\n",
    "    \n",
    "    return variancia\n",
    "    \n",
    "# Chamada à função\n",
    "v = round(calcula_variancia(unidades_vendidas), 2)\n",
    "\n",
    "print(\"A variância da lista é:\", v)"
   ]
  },
  {
   "cell_type": "code",
   "execution_count": 17,
   "id": "e4b98806",
   "metadata": {},
   "outputs": [
    {
     "name": "stdout",
     "output_type": "stream",
     "text": [
      "A variância da lista é: 5.09\n"
     ]
    }
   ],
   "source": [
    "# Solução 2 (usando a lista e numpy)\n",
    "\n",
    "# Lista de números\n",
    "unidades_vendidas = [5, 4, 3, 4, 8, 2, 5, 2, 5, 8, 10, 8, 7, 8, 7, 9, 10, 5, 7, 5, 7, 5, 4, 3, 5, 8, 4]\n",
    "\n",
    "# Função \n",
    "def calcula_variancia(data):\n",
    "    \n",
    "    # Coloque aqui sua solução\n",
    "    \n",
    "    # Calcula a média dos valores na lista\n",
    "    return np.var(data)\n",
    "    \n",
    "# Chamada à função\n",
    "v = round(calcula_variancia(unidades_vendidas), 2)\n",
    "\n",
    "print(\"A variância da lista é:\", v)"
   ]
  },
  {
   "cell_type": "code",
   "execution_count": 9,
   "id": "00c6f2f9",
   "metadata": {},
   "outputs": [
    {
     "name": "stdout",
     "output_type": "stream",
     "text": [
      "A variância do obj df é: 5.28\n"
     ]
    }
   ],
   "source": [
    "# Solução 3 (transformando em objeto pandas)\n",
    "\n",
    "# Listas de números\n",
    "unidades_vendidas = [5, 4, 3, 4, 8, 2, 5, 2, 5, 8, 10, 8, 7, 8, 7, 9, 10, 5, 7, 5, 7, 5, 4, 3, 5, 8, 4]\n",
    "\n",
    "df = pd.DataFrame(unidades_vendidas, columns = ['Numeros'])\n",
    "\n",
    "# Função\n",
    "def calcula_variancia(obj):     \n",
    "    \n",
    "    # Coloque aqui sua solução\n",
    "    return obj['Numeros'].var(ddof=1)  # Definindo ddof=1 para calcular a variância amostral\n",
    "    \n",
    "\n",
    "# Chamada à função\n",
    "v = round(calcula_variancia(df), 2)\n",
    "\n",
    "print(\"A variância do obj df é:\", v)"
   ]
  },
  {
   "cell_type": "markdown",
   "id": "5c5fdd1f",
   "metadata": {},
   "source": [
    "### <br><br><br>Exercício 4 - Considerando a lista de elementos abaixo que representa o número de produtos vendidos por dia em uma empresa, crie uma função que calcule o desvio padrão. Desvio padrão é o quadrado da variância."
   ]
  },
  {
   "cell_type": "code",
   "execution_count": 12,
   "id": "f7db955d",
   "metadata": {},
   "outputs": [
    {
     "name": "stdout",
     "output_type": "stream",
     "text": [
      "O desvio padrão da lista é: 2.26\n"
     ]
    }
   ],
   "source": [
    "# Solução 1 (usando a lista e escrevendo a fórmula)\n",
    "\n",
    "# Import\n",
    "import math\n",
    "\n",
    "# Lista de números\n",
    "unidades_vendidas = [5, 4, 3, 4, 8, 2, 5, 2, 5, 8, 10, 8, 7, 8, 7, 9, 10, 5, 7, 5, 7, 5, 4, 3, 5, 8, 4]\n",
    "\n",
    "\n",
    "# Função\n",
    "def calcula_std(dados):\n",
    "    \n",
    "    # Coloque aqui sua solução\n",
    "    \n",
    "    # Calcula a variância\n",
    "    variancia = sum((x - sum(dados)/len(dados))**2 for x in dados) / len(dados)\n",
    "    \n",
    "    # Calcula o desvio padrão como a raiz quadrada da variância\n",
    "    desvio_padrao = math.sqrt(variancia)\n",
    "    \n",
    "    return desvio_padrao\n",
    "\n",
    "\n",
    "# Chamada à função\n",
    "s = round(calcula_std(unidades_vendidas), 2)\n",
    "print(\"O desvio padrão da lista é:\", s)"
   ]
  },
  {
   "cell_type": "code",
   "execution_count": 18,
   "id": "7c761ee8",
   "metadata": {},
   "outputs": [
    {
     "name": "stdout",
     "output_type": "stream",
     "text": [
      "O desvio padrão da lista é: 2.26\n"
     ]
    }
   ],
   "source": [
    "# Solução 2 (usando a lista e numpy)\n",
    "\n",
    "# Lista de números\n",
    "unidades_vendidas = [5, 4, 3, 4, 8, 2, 5, 2, 5, 8, 10, 8, 7, 8, 7, 9, 10, 5, 7, 5, 7, 5, 4, 3, 5, 8, 4]\n",
    "\n",
    "\n",
    "# Função\n",
    "def calcula_std(dados):\n",
    "    \n",
    "    # Coloque aqui sua solução\n",
    "    return np.std(dados)\n",
    "\n",
    "\n",
    "# Chamada à função\n",
    "s = round(calcula_std(unidades_vendidas), 2)\n",
    "print(\"O desvio padrão da lista é:\", s)"
   ]
  },
  {
   "cell_type": "code",
   "execution_count": 11,
   "id": "12aae5f4",
   "metadata": {},
   "outputs": [
    {
     "name": "stdout",
     "output_type": "stream",
     "text": [
      "O desvio padrão do obj df é: 2.298891098964952\n"
     ]
    }
   ],
   "source": [
    "# Solução 3 (transformando em objeto pandas)\n",
    "\n",
    "# Listas de números\n",
    "unidades_vendidas = [5, 4, 3, 4, 8, 2, 5, 2, 5, 8, 10, 8, 7, 8, 7, 9, 10, 5, 7, 5, 7, 5, 4, 3, 5, 8, 4]\n",
    "\n",
    "df = pd.DataFrame(unidades_vendidas, columns = ['Numeros'])\n",
    "\n",
    "# Função\n",
    "def calcula_desvio_padrao(obj):     \n",
    "    \n",
    "    # Coloque aqui sua solução\n",
    "    return obj['Numeros'].std()  # Definindo ddof=1 para calcular a variância amostral\n",
    "    \n",
    "\n",
    "# Chamada à função\n",
    "dp = calcula_desvio_padrao(df)\n",
    "\n",
    "print(\"O desvio padrão do obj df é:\", dp)"
   ]
  },
  {
   "cell_type": "markdown",
   "id": "24285ddc",
   "metadata": {},
   "source": [
    "### <br><br><br>Exercício 5 - Usando os pacotes NumPy e Scipy, calcule as estatísticas descritivas de tendência central e dispersão da lista abaixo."
   ]
  },
  {
   "cell_type": "code",
   "execution_count": 30,
   "id": "1cbfb92f",
   "metadata": {},
   "outputs": [
    {
     "name": "stdout",
     "output_type": "stream",
     "text": [
      "Estatísticas descritivas de tendência central:\n",
      "Média: 5.76\n",
      "Mediana: 5.0\n",
      "Moda: ModeResult(mode=5, count=8)\n",
      "\n",
      "\n",
      "Estatísticas descritivas de dispersão:\n",
      "Variância: 5.1424\n",
      "Desvio padrão: 2.267686045289339\n",
      "Coeficiente de variação (%): 39.369549397384354\n"
     ]
    }
   ],
   "source": [
    "# Solução\n",
    "\n",
    "# Imports\n",
    "import numpy as np\n",
    "import scipy\n",
    "from scipy import stats\n",
    "\n",
    "# Lista de números\n",
    "unidades = [5, 4, 3, 5, 8, 2, 5, 2, 5, 8, 10, 8, 7, 9, 10, 5, 7, 5, 7, 5, 4, 3, 5, 8, 4]\n",
    "\n",
    "\n",
    "# Calculando estatísticas descritivas de tendência central (media, mediana e moda)\n",
    "media = np.mean(unidades)\n",
    "mediana = np.median(unidades)\n",
    "moda_result = stats.mode(unidades)\n",
    "\n",
    "# Calculando estatísticas descritivas de dispersão\n",
    "variancia = np.var(unidades)\n",
    "desvio_padrao = np.std(unidades)\n",
    "coeficiente_variacao = desvio_padrao / media * 100  # Coeficiente de variação em porcentagem\n",
    "\n",
    "\n",
    "# Imprimindo os resultados\n",
    "print(\"Estatísticas descritivas de tendência central:\")\n",
    "print(\"Média:\", media)\n",
    "print(\"Mediana:\", mediana)\n",
    "print(\"Moda:\", moda)\n",
    "\n",
    "print(\"\\n\\nEstatísticas descritivas de dispersão:\")\n",
    "print(\"Variância:\", variancia)s\n",
    "print(\"Desvio padrão:\", desvio_padrao)\n",
    "print(\"Coeficiente de variação (%):\", coeficiente_variacao)"
   ]
  },
  {
   "cell_type": "code",
   "execution_count": null,
   "id": "7ed37f2b",
   "metadata": {},
   "outputs": [],
   "source": [
    "# Versões dos pacotes usados neste jupyter notebook\n",
    "%reload_ext watermark\n",
    "%watermark -a \"Data Science Academy\" --iversions"
   ]
  },
  {
   "cell_type": "markdown",
   "id": "cdb99d20",
   "metadata": {},
   "source": [
    "# Fim"
   ]
  }
 ],
 "metadata": {
  "kernelspec": {
   "display_name": "Python 3 (ipykernel)",
   "language": "python",
   "name": "python3"
  },
  "language_info": {
   "codemirror_mode": {
    "name": "ipython",
    "version": 3
   },
   "file_extension": ".py",
   "mimetype": "text/x-python",
   "name": "python",
   "nbconvert_exporter": "python",
   "pygments_lexer": "ipython3",
   "version": "3.9.7"
  }
 },
 "nbformat": 4,
 "nbformat_minor": 5
}
